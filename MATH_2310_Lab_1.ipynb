{
  "nbformat": 4,
  "nbformat_minor": 0,
  "metadata": {
    "colab": {
      "name": "MATH 2310 Lab 1 Solution.ipynb",
      "version": "0.3.2",
      "provenance": [],
      "collapsed_sections": [
        "Q4r16U-6S0EC"
      ],
      "include_colab_link": true
    },
    "kernelspec": {
      "display_name": "Python 3",
      "language": "python",
      "name": "python3"
    }
  },
  "cells": [
    {
      "cell_type": "markdown",
      "metadata": {
        "id": "view-in-github",
        "colab_type": "text"
      },
      "source": [
        "<a href=\"https://colab.research.google.com/github/linhmitless/StatColabNotebook/blob/master/MATH_2310_Lab_1.ipynb\" target=\"_parent\"><img src=\"https://colab.research.google.com/assets/colab-badge.svg\" alt=\"Open In Colab\"/></a>"
      ]
    },
    {
      "metadata": {
        "colab_type": "text",
        "id": "gfgKzKT2-O_8"
      },
      "cell_type": "markdown",
      "source": [
        "## MATH 2310 Lab 1\n",
        "\n",
        "In this lab we will learn how to use Python to graph and summarize a data set.\n",
        "\n",
        "The data set consists of values of CO$_2$ emissions (in metric tons/person) for different countries in the years between 1960 and 2014.\n",
        "\n",
        "Your goal is to be able to make plots and compute numerical summaries that will help you describe the distribution of CO$_2$ emissions among these countries."
      ]
    },
    {
      "metadata": {
        "colab_type": "text",
        "id": "XZx8FqxPLJlx"
      },
      "cell_type": "markdown",
      "source": [
        "## 1. Import libraries\n",
        "\n",
        "This lab will primarily use Pandas to explore our data. \n",
        "\n",
        "We will also use NumPy, Matplotlib, and Seaborn."
      ]
    },
    {
      "metadata": {
        "colab_type": "code",
        "id": "a4jp_iW3-RWw",
        "colab": {}
      },
      "cell_type": "code",
      "source": [
        "import pandas as pd\n",
        "import numpy as np\n",
        "import matplotlib.pyplot as plt\n",
        "import seaborn as sns\n",
        "sns.set_style(\"whitegrid\")"
      ],
      "execution_count": 0,
      "outputs": []
    },
    {
      "metadata": {
        "colab_type": "text",
        "id": "rfagez5ELkgd"
      },
      "cell_type": "markdown",
      "source": [
        "## 2. Load the data\n",
        "\n"
      ]
    },
    {
      "metadata": {
        "id": "qtAp39rQSxd4",
        "colab_type": "text"
      },
      "cell_type": "markdown",
      "source": [
        "### Method 1"
      ]
    },
    {
      "metadata": {
        "id": "5aN5x8wiS53f",
        "colab_type": "text"
      },
      "cell_type": "markdown",
      "source": [
        "Use the link below to load the data set."
      ]
    },
    {
      "metadata": {
        "id": "H5IbDOa9Sp1n",
        "colab_type": "code",
        "outputId": "704b1cb0-3fd8-4942-fcea-3c0c77b29948",
        "colab": {
          "base_uri": "https://localhost:8080/",
          "height": 377
        }
      },
      "cell_type": "code",
      "source": [
        "!wget https://www.dropbox.com/s/0ht3kpgu6u5tqg0/CO2EmissionsCountries1960to2014.csv?dl=0  "
      ],
      "execution_count": 0,
      "outputs": [
        {
          "output_type": "stream",
          "text": [
            "--2019-01-09 21:35:58--  https://www.dropbox.com/s/0ht3kpgu6u5tqg0/CO2EmissionsCountries1960to2014.csv?dl=0\n",
            "Resolving www.dropbox.com (www.dropbox.com)... 162.125.8.1, 2620:100:601b:1::a27d:801\n",
            "Connecting to www.dropbox.com (www.dropbox.com)|162.125.8.1|:443... connected.\n",
            "HTTP request sent, awaiting response... 301 Moved Permanently\n",
            "Location: /s/raw/0ht3kpgu6u5tqg0/CO2EmissionsCountries1960to2014.csv [following]\n",
            "--2019-01-09 21:35:58--  https://www.dropbox.com/s/raw/0ht3kpgu6u5tqg0/CO2EmissionsCountries1960to2014.csv\n",
            "Reusing existing connection to www.dropbox.com:443.\n",
            "HTTP request sent, awaiting response... 302 Found\n",
            "Location: https://ucf7d04b930bd3ebf1711e3c43d2.dl.dropboxusercontent.com/cd/0/inline/AZFZuOp3FC0w-1vXGtbNJGmRMG-iMDD3Xf_UMf_X5O4d9qDZx_JF39UsT1nFu1Me_ZgzmQJ9a0iW6vu4Pt7njqmDZIyE5xcIvxHin9UtNRc4bhVHqgbDPvn0Gh7Bhj-GpAXL7VKghfe3zyOdtjELSflmoGUDfRe19Ui_HnH-_N7jpHdH8yjsHSBg6gGphoC9nnY/file [following]\n",
            "--2019-01-09 21:35:58--  https://ucf7d04b930bd3ebf1711e3c43d2.dl.dropboxusercontent.com/cd/0/inline/AZFZuOp3FC0w-1vXGtbNJGmRMG-iMDD3Xf_UMf_X5O4d9qDZx_JF39UsT1nFu1Me_ZgzmQJ9a0iW6vu4Pt7njqmDZIyE5xcIvxHin9UtNRc4bhVHqgbDPvn0Gh7Bhj-GpAXL7VKghfe3zyOdtjELSflmoGUDfRe19Ui_HnH-_N7jpHdH8yjsHSBg6gGphoC9nnY/file\n",
            "Resolving ucf7d04b930bd3ebf1711e3c43d2.dl.dropboxusercontent.com (ucf7d04b930bd3ebf1711e3c43d2.dl.dropboxusercontent.com)... 162.125.7.6, 2620:100:601b:6::a27d:806\n",
            "Connecting to ucf7d04b930bd3ebf1711e3c43d2.dl.dropboxusercontent.com (ucf7d04b930bd3ebf1711e3c43d2.dl.dropboxusercontent.com)|162.125.7.6|:443... connected.\n",
            "HTTP request sent, awaiting response... 200 OK\n",
            "Length: 135139 (132K) [text/plain]\n",
            "Saving to: ‘CO2EmissionsCountries1960to2014.csv?dl=0.1’\n",
            "\n",
            "CO2EmissionsCountri 100%[===================>] 131.97K  --.-KB/s    in 0.05s   \n",
            "\n",
            "2019-01-09 21:35:59 (2.73 MB/s) - ‘CO2EmissionsCountries1960to2014.csv?dl=0.1’ saved [135139/135139]\n",
            "\n"
          ],
          "name": "stdout"
        }
      ]
    },
    {
      "metadata": {
        "id": "SZyC7xM0TAMk",
        "colab_type": "text"
      },
      "cell_type": "markdown",
      "source": [
        "Now we will work with the data as a data frame in Pandas."
      ]
    },
    {
      "metadata": {
        "id": "1eSKHYEPTCYq",
        "colab_type": "code",
        "colab": {}
      },
      "cell_type": "code",
      "source": [
        "#I called the data frame df. You can use another name if you like.\n",
        "\n",
        "df = pd.read_csv(\"CO2EmissionsCountries1960to2014.csv?dl=0\")"
      ],
      "execution_count": 0,
      "outputs": []
    },
    {
      "metadata": {
        "id": "Q4r16U-6S0EC",
        "colab_type": "text"
      },
      "cell_type": "markdown",
      "source": [
        "### Method 2"
      ]
    },
    {
      "metadata": {
        "id": "xH5hBDODS11l",
        "colab_type": "text"
      },
      "cell_type": "markdown",
      "source": [
        "You should have a csv file called CO2EmissionsCountries1960to2014.csv saved somewhere where you can access the file.\n",
        "\n",
        "To load the file, run the cell below and then use the \"Choose Files\" tab to select the CO2EmissionsCountries1960to2014.csv file."
      ]
    },
    {
      "metadata": {
        "colab_type": "code",
        "id": "WagFqXvsT6v2",
        "outputId": "998f3f8e-d7ac-4e79-a7ea-62738212c342",
        "colab": {
          "resources": {
            "http://localhost:8080/nbextensions/google.colab/files.js": {
              "data": "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",
              "ok": true,
              "headers": [
                [
                  "content-type",
                  "application/javascript"
                ]
              ],
              "status": 200,
              "status_text": ""
            }
          },
          "base_uri": "https://localhost:8080/",
          "height": 39
        }
      },
      "cell_type": "code",
      "source": [
        "from google.colab import files\n",
        "uploaded = files.upload()"
      ],
      "execution_count": 0,
      "outputs": [
        {
          "output_type": "display_data",
          "data": {
            "text/html": [
              "\n",
              "     <input type=\"file\" id=\"files-64985348-270e-4d29-bcbd-e86942e7b38f\" name=\"files[]\" multiple disabled />\n",
              "     <output id=\"result-64985348-270e-4d29-bcbd-e86942e7b38f\">\n",
              "      Upload widget is only available when the cell has been executed in the\n",
              "      current browser session. Please rerun this cell to enable.\n",
              "      </output>\n",
              "      <script src=\"/nbextensions/google.colab/files.js\"></script> "
            ],
            "text/plain": [
              "<IPython.core.display.HTML object>"
            ]
          },
          "metadata": {
            "tags": []
          }
        }
      ]
    },
    {
      "metadata": {
        "colab_type": "text",
        "id": "rE3KKKmcT6v6"
      },
      "cell_type": "markdown",
      "source": [
        "Now we will work with the data as a data frame in Pandas."
      ]
    },
    {
      "metadata": {
        "colab_type": "code",
        "id": "7OPFliCzT6v6",
        "outputId": "4d590ee0-dbe9-411e-e87e-6258e8549628",
        "colab": {
          "base_uri": "https://localhost:8080/",
          "height": 865
        }
      },
      "cell_type": "code",
      "source": [
        "#I called the data frame df. You can use another name if you like.\n",
        "\n",
        "df = pd.read_csv(\"CO2EmissionsCountries1960to2014.csv\")"
      ],
      "execution_count": 0,
      "outputs": [
        {
          "output_type": "error",
          "ename": "FileNotFoundError",
          "evalue": "ignored",
          "traceback": [
            "\u001b[0;31m---------------------------------------------------------------------------\u001b[0m",
            "\u001b[0;31mFileNotFoundError\u001b[0m                         Traceback (most recent call last)",
            "\u001b[0;32m<ipython-input-5-8975734e8000>\u001b[0m in \u001b[0;36m<module>\u001b[0;34m()\u001b[0m\n\u001b[1;32m      1\u001b[0m \u001b[0;34m\u001b[0m\u001b[0m\n\u001b[0;32m----> 2\u001b[0;31m \u001b[0mdf\u001b[0m \u001b[0;34m=\u001b[0m \u001b[0mpd\u001b[0m\u001b[0;34m.\u001b[0m\u001b[0mread_csv\u001b[0m\u001b[0;34m(\u001b[0m\u001b[0;34m\"CO2EmissionsCountries1960to2014.csv\"\u001b[0m\u001b[0;34m)\u001b[0m\u001b[0;34m\u001b[0m\u001b[0;34m\u001b[0m\u001b[0m\n\u001b[0m",
            "\u001b[0;32m/usr/local/lib/python3.6/dist-packages/pandas/io/parsers.py\u001b[0m in \u001b[0;36mparser_f\u001b[0;34m(filepath_or_buffer, sep, delimiter, header, names, index_col, usecols, squeeze, prefix, mangle_dupe_cols, dtype, engine, converters, true_values, false_values, skipinitialspace, skiprows, nrows, na_values, keep_default_na, na_filter, verbose, skip_blank_lines, parse_dates, infer_datetime_format, keep_date_col, date_parser, dayfirst, iterator, chunksize, compression, thousands, decimal, lineterminator, quotechar, quoting, escapechar, comment, encoding, dialect, tupleize_cols, error_bad_lines, warn_bad_lines, skipfooter, skip_footer, doublequote, delim_whitespace, as_recarray, compact_ints, use_unsigned, low_memory, buffer_lines, memory_map, float_precision)\u001b[0m\n\u001b[1;32m    707\u001b[0m                     skip_blank_lines=skip_blank_lines)\n\u001b[1;32m    708\u001b[0m \u001b[0;34m\u001b[0m\u001b[0m\n\u001b[0;32m--> 709\u001b[0;31m         \u001b[0;32mreturn\u001b[0m \u001b[0m_read\u001b[0m\u001b[0;34m(\u001b[0m\u001b[0mfilepath_or_buffer\u001b[0m\u001b[0;34m,\u001b[0m \u001b[0mkwds\u001b[0m\u001b[0;34m)\u001b[0m\u001b[0;34m\u001b[0m\u001b[0;34m\u001b[0m\u001b[0m\n\u001b[0m\u001b[1;32m    710\u001b[0m \u001b[0;34m\u001b[0m\u001b[0m\n\u001b[1;32m    711\u001b[0m     \u001b[0mparser_f\u001b[0m\u001b[0;34m.\u001b[0m\u001b[0m__name__\u001b[0m \u001b[0;34m=\u001b[0m \u001b[0mname\u001b[0m\u001b[0;34m\u001b[0m\u001b[0;34m\u001b[0m\u001b[0m\n",
            "\u001b[0;32m/usr/local/lib/python3.6/dist-packages/pandas/io/parsers.py\u001b[0m in \u001b[0;36m_read\u001b[0;34m(filepath_or_buffer, kwds)\u001b[0m\n\u001b[1;32m    447\u001b[0m \u001b[0;34m\u001b[0m\u001b[0m\n\u001b[1;32m    448\u001b[0m     \u001b[0;31m# Create the parser.\u001b[0m\u001b[0;34m\u001b[0m\u001b[0;34m\u001b[0m\u001b[0;34m\u001b[0m\u001b[0m\n\u001b[0;32m--> 449\u001b[0;31m     \u001b[0mparser\u001b[0m \u001b[0;34m=\u001b[0m \u001b[0mTextFileReader\u001b[0m\u001b[0;34m(\u001b[0m\u001b[0mfilepath_or_buffer\u001b[0m\u001b[0;34m,\u001b[0m \u001b[0;34m**\u001b[0m\u001b[0mkwds\u001b[0m\u001b[0;34m)\u001b[0m\u001b[0;34m\u001b[0m\u001b[0;34m\u001b[0m\u001b[0m\n\u001b[0m\u001b[1;32m    450\u001b[0m \u001b[0;34m\u001b[0m\u001b[0m\n\u001b[1;32m    451\u001b[0m     \u001b[0;32mif\u001b[0m \u001b[0mchunksize\u001b[0m \u001b[0;32mor\u001b[0m \u001b[0miterator\u001b[0m\u001b[0;34m:\u001b[0m\u001b[0;34m\u001b[0m\u001b[0;34m\u001b[0m\u001b[0m\n",
            "\u001b[0;32m/usr/local/lib/python3.6/dist-packages/pandas/io/parsers.py\u001b[0m in \u001b[0;36m__init__\u001b[0;34m(self, f, engine, **kwds)\u001b[0m\n\u001b[1;32m    816\u001b[0m             \u001b[0mself\u001b[0m\u001b[0;34m.\u001b[0m\u001b[0moptions\u001b[0m\u001b[0;34m[\u001b[0m\u001b[0;34m'has_index_names'\u001b[0m\u001b[0;34m]\u001b[0m \u001b[0;34m=\u001b[0m \u001b[0mkwds\u001b[0m\u001b[0;34m[\u001b[0m\u001b[0;34m'has_index_names'\u001b[0m\u001b[0;34m]\u001b[0m\u001b[0;34m\u001b[0m\u001b[0;34m\u001b[0m\u001b[0m\n\u001b[1;32m    817\u001b[0m \u001b[0;34m\u001b[0m\u001b[0m\n\u001b[0;32m--> 818\u001b[0;31m         \u001b[0mself\u001b[0m\u001b[0;34m.\u001b[0m\u001b[0m_make_engine\u001b[0m\u001b[0;34m(\u001b[0m\u001b[0mself\u001b[0m\u001b[0;34m.\u001b[0m\u001b[0mengine\u001b[0m\u001b[0;34m)\u001b[0m\u001b[0;34m\u001b[0m\u001b[0;34m\u001b[0m\u001b[0m\n\u001b[0m\u001b[1;32m    819\u001b[0m \u001b[0;34m\u001b[0m\u001b[0m\n\u001b[1;32m    820\u001b[0m     \u001b[0;32mdef\u001b[0m \u001b[0mclose\u001b[0m\u001b[0;34m(\u001b[0m\u001b[0mself\u001b[0m\u001b[0;34m)\u001b[0m\u001b[0;34m:\u001b[0m\u001b[0;34m\u001b[0m\u001b[0;34m\u001b[0m\u001b[0m\n",
            "\u001b[0;32m/usr/local/lib/python3.6/dist-packages/pandas/io/parsers.py\u001b[0m in \u001b[0;36m_make_engine\u001b[0;34m(self, engine)\u001b[0m\n\u001b[1;32m   1047\u001b[0m     \u001b[0;32mdef\u001b[0m \u001b[0m_make_engine\u001b[0m\u001b[0;34m(\u001b[0m\u001b[0mself\u001b[0m\u001b[0;34m,\u001b[0m \u001b[0mengine\u001b[0m\u001b[0;34m=\u001b[0m\u001b[0;34m'c'\u001b[0m\u001b[0;34m)\u001b[0m\u001b[0;34m:\u001b[0m\u001b[0;34m\u001b[0m\u001b[0;34m\u001b[0m\u001b[0m\n\u001b[1;32m   1048\u001b[0m         \u001b[0;32mif\u001b[0m \u001b[0mengine\u001b[0m \u001b[0;34m==\u001b[0m \u001b[0;34m'c'\u001b[0m\u001b[0;34m:\u001b[0m\u001b[0;34m\u001b[0m\u001b[0;34m\u001b[0m\u001b[0m\n\u001b[0;32m-> 1049\u001b[0;31m             \u001b[0mself\u001b[0m\u001b[0;34m.\u001b[0m\u001b[0m_engine\u001b[0m \u001b[0;34m=\u001b[0m \u001b[0mCParserWrapper\u001b[0m\u001b[0;34m(\u001b[0m\u001b[0mself\u001b[0m\u001b[0;34m.\u001b[0m\u001b[0mf\u001b[0m\u001b[0;34m,\u001b[0m \u001b[0;34m**\u001b[0m\u001b[0mself\u001b[0m\u001b[0;34m.\u001b[0m\u001b[0moptions\u001b[0m\u001b[0;34m)\u001b[0m\u001b[0;34m\u001b[0m\u001b[0;34m\u001b[0m\u001b[0m\n\u001b[0m\u001b[1;32m   1050\u001b[0m         \u001b[0;32melse\u001b[0m\u001b[0;34m:\u001b[0m\u001b[0;34m\u001b[0m\u001b[0;34m\u001b[0m\u001b[0m\n\u001b[1;32m   1051\u001b[0m             \u001b[0;32mif\u001b[0m \u001b[0mengine\u001b[0m \u001b[0;34m==\u001b[0m \u001b[0;34m'python'\u001b[0m\u001b[0;34m:\u001b[0m\u001b[0;34m\u001b[0m\u001b[0;34m\u001b[0m\u001b[0m\n",
            "\u001b[0;32m/usr/local/lib/python3.6/dist-packages/pandas/io/parsers.py\u001b[0m in \u001b[0;36m__init__\u001b[0;34m(self, src, **kwds)\u001b[0m\n\u001b[1;32m   1693\u001b[0m         \u001b[0mkwds\u001b[0m\u001b[0;34m[\u001b[0m\u001b[0;34m'allow_leading_cols'\u001b[0m\u001b[0;34m]\u001b[0m \u001b[0;34m=\u001b[0m \u001b[0mself\u001b[0m\u001b[0;34m.\u001b[0m\u001b[0mindex_col\u001b[0m \u001b[0;32mis\u001b[0m \u001b[0;32mnot\u001b[0m \u001b[0;32mFalse\u001b[0m\u001b[0;34m\u001b[0m\u001b[0;34m\u001b[0m\u001b[0m\n\u001b[1;32m   1694\u001b[0m \u001b[0;34m\u001b[0m\u001b[0m\n\u001b[0;32m-> 1695\u001b[0;31m         \u001b[0mself\u001b[0m\u001b[0;34m.\u001b[0m\u001b[0m_reader\u001b[0m \u001b[0;34m=\u001b[0m \u001b[0mparsers\u001b[0m\u001b[0;34m.\u001b[0m\u001b[0mTextReader\u001b[0m\u001b[0;34m(\u001b[0m\u001b[0msrc\u001b[0m\u001b[0;34m,\u001b[0m \u001b[0;34m**\u001b[0m\u001b[0mkwds\u001b[0m\u001b[0;34m)\u001b[0m\u001b[0;34m\u001b[0m\u001b[0;34m\u001b[0m\u001b[0m\n\u001b[0m\u001b[1;32m   1696\u001b[0m \u001b[0;34m\u001b[0m\u001b[0m\n\u001b[1;32m   1697\u001b[0m         \u001b[0;31m# XXX\u001b[0m\u001b[0;34m\u001b[0m\u001b[0;34m\u001b[0m\u001b[0;34m\u001b[0m\u001b[0m\n",
            "\u001b[0;32mpandas/_libs/parsers.pyx\u001b[0m in \u001b[0;36mpandas._libs.parsers.TextReader.__cinit__\u001b[0;34m()\u001b[0m\n",
            "\u001b[0;32mpandas/_libs/parsers.pyx\u001b[0m in \u001b[0;36mpandas._libs.parsers.TextReader._setup_parser_source\u001b[0;34m()\u001b[0m\n",
            "\u001b[0;31mFileNotFoundError\u001b[0m: File b'CO2EmissionsCountries1960to2014.csv' does not exist"
          ]
        }
      ]
    },
    {
      "metadata": {
        "colab_type": "text",
        "id": "MFPWkAWkQdUS"
      },
      "cell_type": "markdown",
      "source": [
        "## 3. Look at the raw data\n",
        "\n",
        "It is often useful to look at the head of the data frame. This will show you the first five values from each column of the data frame. This helps to give you a sense of what variables are present in the data set and what kinds of values they take on."
      ]
    },
    {
      "metadata": {
        "colab_type": "code",
        "id": "6a99oyUBC19X",
        "outputId": "125ff46e-081b-47ab-8c86-e362c6ef0341",
        "colab": {
          "base_uri": "https://localhost:8080/",
          "height": 420
        }
      },
      "cell_type": "code",
      "source": [
        "df.head()"
      ],
      "execution_count": 0,
      "outputs": [
        {
          "output_type": "execute_result",
          "data": {
            "text/html": [
              "<div>\n",
              "<style scoped>\n",
              "    .dataframe tbody tr th:only-of-type {\n",
              "        vertical-align: middle;\n",
              "    }\n",
              "\n",
              "    .dataframe tbody tr th {\n",
              "        vertical-align: top;\n",
              "    }\n",
              "\n",
              "    .dataframe thead th {\n",
              "        text-align: right;\n",
              "    }\n",
              "</style>\n",
              "<table border=\"1\" class=\"dataframe\">\n",
              "  <thead>\n",
              "    <tr style=\"text-align: right;\">\n",
              "      <th></th>\n",
              "      <th>Country Name</th>\n",
              "      <th>Country Code</th>\n",
              "      <th>Indicator Name</th>\n",
              "      <th>Indicator Code</th>\n",
              "      <th>1960</th>\n",
              "      <th>1961</th>\n",
              "      <th>1962</th>\n",
              "      <th>1963</th>\n",
              "      <th>1964</th>\n",
              "      <th>1965</th>\n",
              "      <th>...</th>\n",
              "      <th>2005</th>\n",
              "      <th>2006</th>\n",
              "      <th>2007</th>\n",
              "      <th>2008</th>\n",
              "      <th>2009</th>\n",
              "      <th>2010</th>\n",
              "      <th>2011</th>\n",
              "      <th>2012</th>\n",
              "      <th>2013</th>\n",
              "      <th>2014</th>\n",
              "    </tr>\n",
              "  </thead>\n",
              "  <tbody>\n",
              "    <tr>\n",
              "      <th>0</th>\n",
              "      <td>Aruba</td>\n",
              "      <td>ABW</td>\n",
              "      <td>CO2 emissions (metric tons per capita)</td>\n",
              "      <td>EN.ATM.CO2E.PC</td>\n",
              "      <td>NaN</td>\n",
              "      <td>NaN</td>\n",
              "      <td>NaN</td>\n",
              "      <td>NaN</td>\n",
              "      <td>NaN</td>\n",
              "      <td>NaN</td>\n",
              "      <td>...</td>\n",
              "      <td>27.200708</td>\n",
              "      <td>26.948260</td>\n",
              "      <td>27.895574</td>\n",
              "      <td>26.230847</td>\n",
              "      <td>25.915833</td>\n",
              "      <td>24.670529</td>\n",
              "      <td>24.505835</td>\n",
              "      <td>13.155542</td>\n",
              "      <td>8.351294</td>\n",
              "      <td>8.408363</td>\n",
              "    </tr>\n",
              "    <tr>\n",
              "      <th>1</th>\n",
              "      <td>Afghanistan</td>\n",
              "      <td>AFG</td>\n",
              "      <td>CO2 emissions (metric tons per capita)</td>\n",
              "      <td>EN.ATM.CO2E.PC</td>\n",
              "      <td>0.046060</td>\n",
              "      <td>0.053604</td>\n",
              "      <td>0.073765</td>\n",
              "      <td>0.074233</td>\n",
              "      <td>0.086292</td>\n",
              "      <td>0.101467</td>\n",
              "      <td>...</td>\n",
              "      <td>0.052948</td>\n",
              "      <td>0.063728</td>\n",
              "      <td>0.085418</td>\n",
              "      <td>0.154101</td>\n",
              "      <td>0.241723</td>\n",
              "      <td>0.293837</td>\n",
              "      <td>0.412017</td>\n",
              "      <td>0.350371</td>\n",
              "      <td>0.315602</td>\n",
              "      <td>0.299445</td>\n",
              "    </tr>\n",
              "    <tr>\n",
              "      <th>2</th>\n",
              "      <td>Angola</td>\n",
              "      <td>AGO</td>\n",
              "      <td>CO2 emissions (metric tons per capita)</td>\n",
              "      <td>EN.ATM.CO2E.PC</td>\n",
              "      <td>0.097472</td>\n",
              "      <td>0.079038</td>\n",
              "      <td>0.201289</td>\n",
              "      <td>0.192535</td>\n",
              "      <td>0.201003</td>\n",
              "      <td>0.191528</td>\n",
              "      <td>...</td>\n",
              "      <td>0.979740</td>\n",
              "      <td>1.098884</td>\n",
              "      <td>1.197844</td>\n",
              "      <td>1.181527</td>\n",
              "      <td>1.232495</td>\n",
              "      <td>1.243406</td>\n",
              "      <td>1.252789</td>\n",
              "      <td>1.330843</td>\n",
              "      <td>1.254617</td>\n",
              "      <td>1.291328</td>\n",
              "    </tr>\n",
              "    <tr>\n",
              "      <th>3</th>\n",
              "      <td>Albania</td>\n",
              "      <td>ALB</td>\n",
              "      <td>CO2 emissions (metric tons per capita)</td>\n",
              "      <td>EN.ATM.CO2E.PC</td>\n",
              "      <td>1.258195</td>\n",
              "      <td>1.374186</td>\n",
              "      <td>1.439956</td>\n",
              "      <td>1.181681</td>\n",
              "      <td>1.111742</td>\n",
              "      <td>1.166099</td>\n",
              "      <td>...</td>\n",
              "      <td>1.412498</td>\n",
              "      <td>1.302576</td>\n",
              "      <td>1.322335</td>\n",
              "      <td>1.484311</td>\n",
              "      <td>1.495600</td>\n",
              "      <td>1.578574</td>\n",
              "      <td>1.803715</td>\n",
              "      <td>1.692908</td>\n",
              "      <td>1.749211</td>\n",
              "      <td>1.978763</td>\n",
              "    </tr>\n",
              "    <tr>\n",
              "      <th>4</th>\n",
              "      <td>Andorra</td>\n",
              "      <td>AND</td>\n",
              "      <td>CO2 emissions (metric tons per capita)</td>\n",
              "      <td>EN.ATM.CO2E.PC</td>\n",
              "      <td>NaN</td>\n",
              "      <td>NaN</td>\n",
              "      <td>NaN</td>\n",
              "      <td>NaN</td>\n",
              "      <td>NaN</td>\n",
              "      <td>NaN</td>\n",
              "      <td>...</td>\n",
              "      <td>7.299872</td>\n",
              "      <td>6.746219</td>\n",
              "      <td>6.519466</td>\n",
              "      <td>6.427887</td>\n",
              "      <td>6.121652</td>\n",
              "      <td>6.122595</td>\n",
              "      <td>5.867130</td>\n",
              "      <td>5.916597</td>\n",
              "      <td>5.900753</td>\n",
              "      <td>5.832170</td>\n",
              "    </tr>\n",
              "  </tbody>\n",
              "</table>\n",
              "<p>5 rows × 59 columns</p>\n",
              "</div>"
            ],
            "text/plain": [
              "  Country Name Country Code                          Indicator Name  \\\n",
              "0        Aruba          ABW  CO2 emissions (metric tons per capita)   \n",
              "1  Afghanistan          AFG  CO2 emissions (metric tons per capita)   \n",
              "2       Angola          AGO  CO2 emissions (metric tons per capita)   \n",
              "3      Albania          ALB  CO2 emissions (metric tons per capita)   \n",
              "4      Andorra          AND  CO2 emissions (metric tons per capita)   \n",
              "\n",
              "   Indicator Code      1960      1961      1962      1963      1964      1965  \\\n",
              "0  EN.ATM.CO2E.PC       NaN       NaN       NaN       NaN       NaN       NaN   \n",
              "1  EN.ATM.CO2E.PC  0.046060  0.053604  0.073765  0.074233  0.086292  0.101467   \n",
              "2  EN.ATM.CO2E.PC  0.097472  0.079038  0.201289  0.192535  0.201003  0.191528   \n",
              "3  EN.ATM.CO2E.PC  1.258195  1.374186  1.439956  1.181681  1.111742  1.166099   \n",
              "4  EN.ATM.CO2E.PC       NaN       NaN       NaN       NaN       NaN       NaN   \n",
              "\n",
              "     ...          2005       2006       2007       2008       2009       2010  \\\n",
              "0    ...     27.200708  26.948260  27.895574  26.230847  25.915833  24.670529   \n",
              "1    ...      0.052948   0.063728   0.085418   0.154101   0.241723   0.293837   \n",
              "2    ...      0.979740   1.098884   1.197844   1.181527   1.232495   1.243406   \n",
              "3    ...      1.412498   1.302576   1.322335   1.484311   1.495600   1.578574   \n",
              "4    ...      7.299872   6.746219   6.519466   6.427887   6.121652   6.122595   \n",
              "\n",
              "        2011       2012      2013      2014  \n",
              "0  24.505835  13.155542  8.351294  8.408363  \n",
              "1   0.412017   0.350371  0.315602  0.299445  \n",
              "2   1.252789   1.330843  1.254617  1.291328  \n",
              "3   1.803715   1.692908  1.749211  1.978763  \n",
              "4   5.867130   5.916597  5.900753  5.832170  \n",
              "\n",
              "[5 rows x 59 columns]"
            ]
          },
          "metadata": {
            "tags": []
          },
          "execution_count": 6
        }
      ]
    },
    {
      "metadata": {
        "colab_type": "text",
        "id": "_ZQNQgLYRhk0"
      },
      "cell_type": "markdown",
      "source": [
        "### **Question 3.1**. What are the variables in your data set?"
      ]
    },
    {
      "metadata": {
        "colab_type": "text",
        "id": "7tDzMIDaTs-s"
      },
      "cell_type": "markdown",
      "source": [
        "The columns of interest in the data set are the Country Name, Country Code (which is redundant with Country Name), and the CO$_2$ emissions for many years. The indicator name tells you what is measured in each year."
      ]
    },
    {
      "metadata": {
        "colab_type": "text",
        "id": "FwKB3hbHTNaj"
      },
      "cell_type": "markdown",
      "source": [
        "### **Question 3.2**. For each variable, determine whether it is numerical or categorical.\n"
      ]
    },
    {
      "metadata": {
        "colab_type": "text",
        "id": "70kFlwwST2tW"
      },
      "cell_type": "markdown",
      "source": [
        "CO$_2$ emission is a number and it makes sense to do arithmetic with the values, so it is a numerical variable. "
      ]
    },
    {
      "metadata": {
        "colab_type": "text",
        "id": "hPmGyyxsTQV9"
      },
      "cell_type": "markdown",
      "source": [
        "### **Question 3.3**. Look at the raw CO$_2$ data for all countries in 2010. Can you tell from looking at the table of data values what the shape of the CO$_2$ emission distribution looks like?\n"
      ]
    },
    {
      "metadata": {
        "colab_type": "code",
        "id": "jguTkbP1UfaE",
        "outputId": "43bbca39-7ab7-4e07-dc45-a7b0d3fbaa21",
        "colab": {
          "base_uri": "https://localhost:8080/",
          "height": 1071
        }
      },
      "cell_type": "code",
      "source": [
        "#To look at the entire data set, we can type the name of our data frame.\n",
        "#To look at one column, type df['Name of the column']\n",
        "\n",
        "df['2010']"
      ],
      "execution_count": 0,
      "outputs": [
        {
          "output_type": "execute_result",
          "data": {
            "text/plain": [
              "0      24.670529\n",
              "1       0.293837\n",
              "2       1.243406\n",
              "3       1.578574\n",
              "4       6.122595\n",
              "5      19.443690\n",
              "6       4.558500\n",
              "7       1.465622\n",
              "8            NaN\n",
              "9       5.539568\n",
              "10     17.740845\n",
              "11      8.071132\n",
              "12      3.388226\n",
              "13      0.024260\n",
              "14     10.171465\n",
              "15      0.553283\n",
              "16      0.125717\n",
              "17      0.393937\n",
              "18      5.964900\n",
              "19     23.585481\n",
              "20      4.583343\n",
              "21      5.716135\n",
              "22      6.642697\n",
              "23      1.676106\n",
              "24      9.347122\n",
              "25      1.532871\n",
              "26      2.132938\n",
              "27      5.285997\n",
              "28     21.105946\n",
              "29      0.670263\n",
              "         ...    \n",
              "188     6.152288\n",
              "189     0.043496\n",
              "190     0.406006\n",
              "191     4.194782\n",
              "192     0.333031\n",
              "193    11.261485\n",
              "194     0.211509\n",
              "195     1.126823\n",
              "196    36.092933\n",
              "197     2.599658\n",
              "198     4.120215\n",
              "199     0.696420\n",
              "200     0.154162\n",
              "201     0.115583\n",
              "202     6.641350\n",
              "203     1.893043\n",
              "204    17.442166\n",
              "205     3.647049\n",
              "206     2.012716\n",
              "207     6.513377\n",
              "208     6.330774\n",
              "209          NaN\n",
              "210     1.613360\n",
              "211     0.512118\n",
              "212     1.004361\n",
              "213          NaN\n",
              "214     0.992602\n",
              "215     9.190699\n",
              "216     0.194337\n",
              "217     0.552146\n",
              "Name: 2010, Length: 218, dtype: float64"
            ]
          },
          "metadata": {
            "tags": []
          },
          "execution_count": 7
        }
      ]
    },
    {
      "metadata": {
        "colab_type": "text",
        "id": "fjsmk4scU9mt"
      },
      "cell_type": "markdown",
      "source": [
        "It is difficult to understand the shape of the distribution just by looking at the data table. There are clearly a few large values and many smaller values, but the exact shape of the distribution is not easy to visualize. \n",
        "\n",
        "We can do better using graphs to visualize the distribution."
      ]
    },
    {
      "metadata": {
        "colab_type": "text",
        "id": "gGNnBPSEVXXY"
      },
      "cell_type": "markdown",
      "source": [
        "## 4. Graphing the distribution"
      ]
    },
    {
      "metadata": {
        "colab_type": "text",
        "id": "3hz5cTZbV5Ey"
      },
      "cell_type": "markdown",
      "source": [
        "### **Question 4.1**. Why is a histogram an appropriate graph to use to visualize the CO$_2$ distribution?"
      ]
    },
    {
      "metadata": {
        "colab_type": "text",
        "id": "tnODaHHrbo8Q"
      },
      "cell_type": "markdown",
      "source": [
        "CO$_2$ emission is a continous numerical variable and our data set is not small (n = 218), so a histogram is an appropriate graph to use."
      ]
    },
    {
      "metadata": {
        "colab_type": "text",
        "id": "d60BHMNvb8fT"
      },
      "cell_type": "markdown",
      "source": [
        "### **Question 4.2**. Construct a histogram of the CO$_2$ emission data from 2010 using 20 bins and describe the distribution.\n",
        "\n",
        "Your histogram should have the axes labeled.\n",
        "\n",
        "Be sure to describe all relevant features of the histogram."
      ]
    },
    {
      "metadata": {
        "colab_type": "code",
        "id": "zI8fRwiYC3EN",
        "outputId": "eba6ef9f-0f27-479a-ca75-d6f99b2b47a6",
        "colab": {
          "base_uri": "https://localhost:8080/",
          "height": 400
        }
      },
      "cell_type": "code",
      "source": [
        "df.hist(column = '2010',alpha = 0.7, color = 'dodgerblue',bins = 20)\n",
        "\n",
        "#You can specify the bin edges\n",
        "#df.hist(column = '2010',alpha = 0.7, color = 'dodgerblue',bins = np.arange(0,43,2))\n",
        "\n",
        "#Label the axes\n",
        "plt.ylabel('Count',fontsize = 20)\n",
        "plt.xlabel('CO$_2$ Emissions (metric tons/person)',fontsize = 20)\n",
        "plt.title(' ',fontsize = 20)\n",
        "\n",
        "#Set tick label sizes\n",
        "plt.tick_params(labelsize = 16)\n",
        "\n",
        "plt.show()"
      ],
      "execution_count": 0,
      "outputs": [
        {
          "output_type": "display_data",
          "data": {
            "image/png": "[encoded data removed]",
            "text/plain": [
              "<matplotlib.figure.Figure at 0x7f03d6517f28>"
            ]
          },
          "metadata": {
            "tags": []
          }
        }
      ]
    },
    {
      "metadata": {
        "colab_type": "code",
        "id": "jAPqdVM2FiVf",
        "outputId": "28d1919b-f712-45b4-8cff-e27ee3f54b4a",
        "colab": {
          "base_uri": "https://localhost:8080/",
          "height": 400
        }
      },
      "cell_type": "code",
      "source": [
        "#Use seaborn to plot on a density scale\n",
        "sns.distplot(df['2010'].dropna(how='all'),bins = 20,kde_kws={\"color\": \"k\", \"lw\": 0, 'cut': 0},hist_kws={\"linewidth\": 3,\"alpha\": 0.7, \"color\": \"dodgerblue\"})\n",
        "\n",
        "#Label the axes\n",
        "plt.ylabel('Density',fontsize = 20)\n",
        "plt.xlabel('CO$_2$ Emissions (metric tons/person)',fontsize = 20)\n",
        "plt.title(' ',fontsize = 20)\n",
        "\n",
        "#Set tick label sizes\n",
        "plt.tick_params(labelsize = 16)\n",
        "\n",
        "plt.show()"
      ],
      "execution_count": 0,
      "outputs": [
        {
          "output_type": "display_data",
          "data": {
            "image/png": "[encoded data removed]",
            "text/plain": [
              "<matplotlib.figure.Figure at 0x7f03d3bc6908>"
            ]
          },
          "metadata": {
            "tags": []
          }
        }
      ]
    },
    {
      "metadata": {
        "colab_type": "text",
        "id": "fQr1pfaXTPQ7"
      },
      "cell_type": "markdown",
      "source": [
        "The histogram is skewed to the right, or positively skewed. This is consistent with our initial impression that there are many small values and a few large values of emissions.\n",
        "\n",
        "There are several countries at the upper end of the range of emissions that are potential outliers.\n",
        "\n",
        "The small bump around 5 metric tons/person might lead you to suggest that the distribution is bimodal, but the peak is small enough that it is reasonably called unimodal."
      ]
    },
    {
      "metadata": {
        "colab_type": "text",
        "id": "mq3NWOtketWN"
      },
      "cell_type": "markdown",
      "source": [
        "### **Question 4.3**. Construct histograms of the CO$_2$ emission data in 2010 with different numbers of bins. Does your impression of the distribution change with different numbers of bins?"
      ]
    },
    {
      "metadata": {
        "colab_type": "code",
        "id": "2OWwx-0He3BA",
        "outputId": "2acf2d89-5c54-48b2-e585-5cf898fff15f",
        "colab": {
          "base_uri": "https://localhost:8080/",
          "height": 1097
        }
      },
      "cell_type": "code",
      "source": [
        "#Use 5 bins\n",
        "df.hist(column = '2010',alpha = 0.7, color = 'dodgerblue',bins = 5)\n",
        "plt.xlabel('C0$_2$ Emissions (metric tons/person)',fontsize=18)\n",
        "plt.ylabel('Count',fontsize=18)\n",
        "plt.title('')\n",
        "plt.tick_params(labelsize = 16)\n",
        "\n",
        "\n",
        "#Use 10 bins\n",
        "df.hist(column = '2010',alpha = 0.7, color = 'dodgerblue',bins = 10)\n",
        "plt.xlabel('C0$_2$ Emissions (metric tons/person)',fontsize=18)\n",
        "plt.ylabel('Count',fontsize=18)\n",
        "plt.title('')\n",
        "plt.tick_params(labelsize = 16)\n",
        "\n",
        "\n",
        "#Use 15 bins\n",
        "df.hist(column = '2010',alpha = 0.7, color = 'dodgerblue',bins = 15)\n",
        "plt.xlabel('C0$_2$ Emissions (metric tons/person)',fontsize=18)\n",
        "plt.ylabel('Count',fontsize=18)\n",
        "plt.title('')\n",
        "plt.tick_params(labelsize = 16)\n",
        "\n",
        "plt.show()"
      ],
      "execution_count": 0,
      "outputs": [
        {
          "output_type": "display_data",
          "data": {
            "image/png": "[encoded data removed]",
            "text/plain": [
              "<matplotlib.figure.Figure at 0x7f03d3b95668>"
            ]
          },
          "metadata": {
            "tags": []
          }
        },
        {
          "output_type": "display_data",
          "data": {
            "image/png": "[encoded data removed]",
            "text/plain": [
              "<matplotlib.figure.Figure at 0x7f03d3abc128>"
            ]
          },
          "metadata": {
            "tags": []
          }
        },
        {
          "output_type": "display_data",
          "data": {
            "image/png": "[encoded data removed]",
            "text/plain": [
              "<matplotlib.figure.Figure at 0x7f03d3b95080>"
            ]
          },
          "metadata": {
            "tags": []
          }
        }
      ]
    },
    {
      "metadata": {
        "colab_type": "text",
        "id": "vSquiJoIhyPc"
      },
      "cell_type": "markdown",
      "source": [
        "The distribution looks similar using histograms with 5, 10, and 15 bins. The distribution is skewed to the right and there are several potential outliers."
      ]
    },
    {
      "metadata": {
        "colab_type": "text",
        "id": "3ITbgAz8uavg"
      },
      "cell_type": "markdown",
      "source": [
        "## 5. Numerical summaries"
      ]
    },
    {
      "metadata": {
        "colab_type": "text",
        "id": "ylOxnIutupcI"
      },
      "cell_type": "markdown",
      "source": [
        "### **Question 5.1**. Review the definitions of the sample mean, median, standard deviation, interquartile range, and 5-number summary of a data set."
      ]
    },
    {
      "metadata": {
        "colab_type": "text",
        "id": "YVpZ06CsvWUN"
      },
      "cell_type": "markdown",
      "source": [
        "Suppose we have a data set consisting of $n$ values $x_1, x_2, \\ldots, x_n$.\n",
        "\n",
        "**Measure of center**\n",
        "\n",
        "The sample mean is $\\displaystyle \\bar{x} = \\frac{1}{n}\\sum_{i = 1}^n x_i$.\n",
        "\n",
        "The sample median $\\tilde{x}$ is the $50^{th}$ percentile. If $n$ is odd, then $\\tilde{x}$ is the middle value after the values are ordered. If $n$ is even, then $\\tilde{x}$ is the average of the two middle values after the values are ordered.\n",
        "\n",
        "**Measures of spread**\n",
        "\n",
        "The sample standard deviation is $\\displaystyle s = \\sqrt{\\frac{1}{n - 1}\\sum_{i = 1}^n (x_i - \\bar{x})^2}$.\n",
        "\n",
        "The first quartile is the $25{th}$ percentile and the third quartile is the $75{th}$ percentile.  The interquartile range is the difference between the $75{th}$ percentile and $25{th}$ percentile.\n",
        "\n",
        "**5-number summary**\n",
        "\n",
        "The 5-number summary consists of the 5 numbers: minimum, first quartile, median, third quartile, maximum.\n"
      ]
    },
    {
      "metadata": {
        "colab_type": "text",
        "id": "PlplA-kmxLAv"
      },
      "cell_type": "markdown",
      "source": [
        "### **Question 5.2**. Use the .describe() function to compute the sample mean, median, standard deviation, interquartile range, and 5-number summary of the CO$_2$ data set."
      ]
    },
    {
      "metadata": {
        "colab_type": "text",
        "id": "x5p6MJfMf-Zm"
      },
      "cell_type": "markdown",
      "source": [
        "df.describe() will give you the summaries for all numerical variables in the data set.\n",
        "\n",
        "df['1960'].describe() will give you the summaries for just the 1960 column.\n",
        "\n",
        "df['1960'].describe()['mean'] will give you the mean for just the 1960 column."
      ]
    },
    {
      "metadata": {
        "colab_type": "code",
        "id": "ffBsKjgbIRnw",
        "outputId": "41dc3858-92a3-4de4-d20d-6da715b3fe8b",
        "colab": {
          "base_uri": "https://localhost:8080/",
          "height": 346
        }
      },
      "cell_type": "code",
      "source": [
        "df.describe()"
      ],
      "execution_count": 0,
      "outputs": [
        {
          "output_type": "execute_result",
          "data": {
            "text/html": [
              "<div>\n",
              "<style scoped>\n",
              "    .dataframe tbody tr th:only-of-type {\n",
              "        vertical-align: middle;\n",
              "    }\n",
              "\n",
              "    .dataframe tbody tr th {\n",
              "        vertical-align: top;\n",
              "    }\n",
              "\n",
              "    .dataframe thead th {\n",
              "        text-align: right;\n",
              "    }\n",
              "</style>\n",
              "<table border=\"1\" class=\"dataframe\">\n",
              "  <thead>\n",
              "    <tr style=\"text-align: right;\">\n",
              "      <th></th>\n",
              "      <th>1960</th>\n",
              "      <th>1961</th>\n",
              "      <th>1962</th>\n",
              "      <th>1963</th>\n",
              "      <th>1964</th>\n",
              "      <th>1965</th>\n",
              "      <th>1966</th>\n",
              "      <th>1967</th>\n",
              "      <th>1968</th>\n",
              "      <th>1969</th>\n",
              "      <th>...</th>\n",
              "      <th>2005</th>\n",
              "      <th>2006</th>\n",
              "      <th>2007</th>\n",
              "      <th>2008</th>\n",
              "      <th>2009</th>\n",
              "      <th>2010</th>\n",
              "      <th>2011</th>\n",
              "      <th>2012</th>\n",
              "      <th>2013</th>\n",
              "      <th>2014</th>\n",
              "    </tr>\n",
              "  </thead>\n",
              "  <tbody>\n",
              "    <tr>\n",
              "      <th>count</th>\n",
              "      <td>152.000000</td>\n",
              "      <td>153.000000</td>\n",
              "      <td>155.000000</td>\n",
              "      <td>156.000000</td>\n",
              "      <td>162.000000</td>\n",
              "      <td>162.000000</td>\n",
              "      <td>162.000000</td>\n",
              "      <td>162.000000</td>\n",
              "      <td>162.000000</td>\n",
              "      <td>162.000000</td>\n",
              "      <td>...</td>\n",
              "      <td>202.000000</td>\n",
              "      <td>203.000000</td>\n",
              "      <td>204.000000</td>\n",
              "      <td>204.000000</td>\n",
              "      <td>204.000000</td>\n",
              "      <td>204.000000</td>\n",
              "      <td>204.000000</td>\n",
              "      <td>206.000000</td>\n",
              "      <td>206.000000</td>\n",
              "      <td>204.000000</td>\n",
              "    </tr>\n",
              "    <tr>\n",
              "      <th>mean</th>\n",
              "      <td>2.070679</td>\n",
              "      <td>2.216598</td>\n",
              "      <td>2.316058</td>\n",
              "      <td>2.947975</td>\n",
              "      <td>3.112612</td>\n",
              "      <td>3.239856</td>\n",
              "      <td>3.236653</td>\n",
              "      <td>3.304254</td>\n",
              "      <td>3.519472</td>\n",
              "      <td>4.251205</td>\n",
              "      <td>...</td>\n",
              "      <td>4.934908</td>\n",
              "      <td>5.007090</td>\n",
              "      <td>5.033495</td>\n",
              "      <td>5.032251</td>\n",
              "      <td>4.807773</td>\n",
              "      <td>4.921011</td>\n",
              "      <td>4.859876</td>\n",
              "      <td>5.030037</td>\n",
              "      <td>4.933972</td>\n",
              "      <td>4.973695</td>\n",
              "    </tr>\n",
              "    <tr>\n",
              "      <th>std</th>\n",
              "      <td>4.457112</td>\n",
              "      <td>4.683338</td>\n",
              "      <td>5.062040</td>\n",
              "      <td>9.341651</td>\n",
              "      <td>9.352750</td>\n",
              "      <td>9.583044</td>\n",
              "      <td>8.841837</td>\n",
              "      <td>7.918706</td>\n",
              "      <td>7.812391</td>\n",
              "      <td>10.892139</td>\n",
              "      <td>...</td>\n",
              "      <td>6.836770</td>\n",
              "      <td>7.006817</td>\n",
              "      <td>6.817247</td>\n",
              "      <td>6.585042</td>\n",
              "      <td>6.253323</td>\n",
              "      <td>6.283470</td>\n",
              "      <td>6.205093</td>\n",
              "      <td>6.629599</td>\n",
              "      <td>6.255262</td>\n",
              "      <td>6.540012</td>\n",
              "    </tr>\n",
              "    <tr>\n",
              "      <th>min</th>\n",
              "      <td>0.008017</td>\n",
              "      <td>0.007892</td>\n",
              "      <td>0.008475</td>\n",
              "      <td>0.009383</td>\n",
              "      <td>0.011598</td>\n",
              "      <td>0.011914</td>\n",
              "      <td>0.013258</td>\n",
              "      <td>0.011800</td>\n",
              "      <td>-0.020100</td>\n",
              "      <td>0.016116</td>\n",
              "      <td>...</td>\n",
              "      <td>0.020747</td>\n",
              "      <td>0.024366</td>\n",
              "      <td>0.023555</td>\n",
              "      <td>0.023219</td>\n",
              "      <td>0.022462</td>\n",
              "      <td>0.024260</td>\n",
              "      <td>0.026762</td>\n",
              "      <td>0.030297</td>\n",
              "      <td>0.030176</td>\n",
              "      <td>0.044485</td>\n",
              "    </tr>\n",
              "    <tr>\n",
              "      <th>25%</th>\n",
              "      <td>0.144445</td>\n",
              "      <td>0.150782</td>\n",
              "      <td>0.171684</td>\n",
              "      <td>0.171290</td>\n",
              "      <td>0.183518</td>\n",
              "      <td>0.203201</td>\n",
              "      <td>0.211852</td>\n",
              "      <td>0.209988</td>\n",
              "      <td>0.239212</td>\n",
              "      <td>0.250147</td>\n",
              "      <td>...</td>\n",
              "      <td>0.711748</td>\n",
              "      <td>0.685498</td>\n",
              "      <td>0.686304</td>\n",
              "      <td>0.632640</td>\n",
              "      <td>0.643619</td>\n",
              "      <td>0.666762</td>\n",
              "      <td>0.722237</td>\n",
              "      <td>0.758089</td>\n",
              "      <td>0.785358</td>\n",
              "      <td>0.868873</td>\n",
              "    </tr>\n",
              "    <tr>\n",
              "      <th>50%</th>\n",
              "      <td>0.480395</td>\n",
              "      <td>0.497232</td>\n",
              "      <td>0.547992</td>\n",
              "      <td>0.545401</td>\n",
              "      <td>0.659313</td>\n",
              "      <td>0.657545</td>\n",
              "      <td>0.704057</td>\n",
              "      <td>0.699404</td>\n",
              "      <td>0.827052</td>\n",
              "      <td>0.823109</td>\n",
              "      <td>...</td>\n",
              "      <td>2.273938</td>\n",
              "      <td>2.426221</td>\n",
              "      <td>2.355854</td>\n",
              "      <td>2.534459</td>\n",
              "      <td>2.659933</td>\n",
              "      <td>2.594963</td>\n",
              "      <td>2.632902</td>\n",
              "      <td>2.637775</td>\n",
              "      <td>2.771120</td>\n",
              "      <td>2.764984</td>\n",
              "    </tr>\n",
              "    <tr>\n",
              "      <th>75%</th>\n",
              "      <td>1.790830</td>\n",
              "      <td>2.158328</td>\n",
              "      <td>2.169161</td>\n",
              "      <td>1.946426</td>\n",
              "      <td>2.140375</td>\n",
              "      <td>2.375210</td>\n",
              "      <td>3.099937</td>\n",
              "      <td>4.045505</td>\n",
              "      <td>4.174556</td>\n",
              "      <td>4.160206</td>\n",
              "      <td>...</td>\n",
              "      <td>7.109667</td>\n",
              "      <td>7.074235</td>\n",
              "      <td>6.929390</td>\n",
              "      <td>7.029875</td>\n",
              "      <td>6.311029</td>\n",
              "      <td>6.580727</td>\n",
              "      <td>6.626816</td>\n",
              "      <td>6.508001</td>\n",
              "      <td>6.319731</td>\n",
              "      <td>6.218945</td>\n",
              "    </tr>\n",
              "    <tr>\n",
              "      <th>max</th>\n",
              "      <td>36.685183</td>\n",
              "      <td>36.583778</td>\n",
              "      <td>42.241998</td>\n",
              "      <td>99.463000</td>\n",
              "      <td>92.859488</td>\n",
              "      <td>85.458585</td>\n",
              "      <td>78.627123</td>\n",
              "      <td>77.508639</td>\n",
              "      <td>75.975333</td>\n",
              "      <td>100.697669</td>\n",
              "      <td>...</td>\n",
              "      <td>58.918733</td>\n",
              "      <td>62.823536</td>\n",
              "      <td>53.190986</td>\n",
              "      <td>46.672138</td>\n",
              "      <td>43.514477</td>\n",
              "      <td>40.742018</td>\n",
              "      <td>41.205645</td>\n",
              "      <td>44.617929</td>\n",
              "      <td>37.780085</td>\n",
              "      <td>45.423240</td>\n",
              "    </tr>\n",
              "  </tbody>\n",
              "</table>\n",
              "<p>8 rows × 55 columns</p>\n",
              "</div>"
            ],
            "text/plain": [
              "             1960        1961        1962        1963        1964        1965  \\\n",
              "count  152.000000  153.000000  155.000000  156.000000  162.000000  162.000000   \n",
              "mean     2.070679    2.216598    2.316058    2.947975    3.112612    3.239856   \n",
              "std      4.457112    4.683338    5.062040    9.341651    9.352750    9.583044   \n",
              "min      0.008017    0.007892    0.008475    0.009383    0.011598    0.011914   \n",
              "25%      0.144445    0.150782    0.171684    0.171290    0.183518    0.203201   \n",
              "50%      0.480395    0.497232    0.547992    0.545401    0.659313    0.657545   \n",
              "75%      1.790830    2.158328    2.169161    1.946426    2.140375    2.375210   \n",
              "max     36.685183   36.583778   42.241998   99.463000   92.859488   85.458585   \n",
              "\n",
              "             1966        1967        1968        1969     ...            2005  \\\n",
              "count  162.000000  162.000000  162.000000  162.000000     ...      202.000000   \n",
              "mean     3.236653    3.304254    3.519472    4.251205     ...        4.934908   \n",
              "std      8.841837    7.918706    7.812391   10.892139     ...        6.836770   \n",
              "min      0.013258    0.011800   -0.020100    0.016116     ...        0.020747   \n",
              "25%      0.211852    0.209988    0.239212    0.250147     ...        0.711748   \n",
              "50%      0.704057    0.699404    0.827052    0.823109     ...        2.273938   \n",
              "75%      3.099937    4.045505    4.174556    4.160206     ...        7.109667   \n",
              "max     78.627123   77.508639   75.975333  100.697669     ...       58.918733   \n",
              "\n",
              "             2006        2007        2008        2009        2010        2011  \\\n",
              "count  203.000000  204.000000  204.000000  204.000000  204.000000  204.000000   \n",
              "mean     5.007090    5.033495    5.032251    4.807773    4.921011    4.859876   \n",
              "std      7.006817    6.817247    6.585042    6.253323    6.283470    6.205093   \n",
              "min      0.024366    0.023555    0.023219    0.022462    0.024260    0.026762   \n",
              "25%      0.685498    0.686304    0.632640    0.643619    0.666762    0.722237   \n",
              "50%      2.426221    2.355854    2.534459    2.659933    2.594963    2.632902   \n",
              "75%      7.074235    6.929390    7.029875    6.311029    6.580727    6.626816   \n",
              "max     62.823536   53.190986   46.672138   43.514477   40.742018   41.205645   \n",
              "\n",
              "             2012        2013        2014  \n",
              "count  206.000000  206.000000  204.000000  \n",
              "mean     5.030037    4.933972    4.973695  \n",
              "std      6.629599    6.255262    6.540012  \n",
              "min      0.030297    0.030176    0.044485  \n",
              "25%      0.758089    0.785358    0.868873  \n",
              "50%      2.637775    2.771120    2.764984  \n",
              "75%      6.508001    6.319731    6.218945  \n",
              "max     44.617929   37.780085   45.423240  \n",
              "\n",
              "[8 rows x 55 columns]"
            ]
          },
          "metadata": {
            "tags": []
          },
          "execution_count": 11
        }
      ]
    },
    {
      "metadata": {
        "colab_type": "code",
        "id": "J0uFl6aIfwAY",
        "outputId": "af4e1dbc-41da-4e33-80ee-7b92771180d2",
        "colab": {
          "base_uri": "https://localhost:8080/",
          "height": 170
        }
      },
      "cell_type": "code",
      "source": [
        "df['2010'].describe()"
      ],
      "execution_count": 0,
      "outputs": [
        {
          "output_type": "execute_result",
          "data": {
            "text/plain": [
              "count    204.000000\n",
              "mean       4.921011\n",
              "std        6.283470\n",
              "min        0.024260\n",
              "25%        0.666762\n",
              "50%        2.594963\n",
              "75%        6.580727\n",
              "max       40.742018\n",
              "Name: 2010, dtype: float64"
            ]
          },
          "metadata": {
            "tags": []
          },
          "execution_count": 12
        }
      ]
    },
    {
      "metadata": {
        "colab_type": "code",
        "id": "jq-A36yI2t_X",
        "outputId": "2a0aa0b1-e9ec-444b-8df2-1aeb49310e1c",
        "colab": {
          "base_uri": "https://localhost:8080/",
          "height": 34
        }
      },
      "cell_type": "code",
      "source": [
        "#Interquartile range\n",
        "Q3 = df['2010'].describe()['75%']\n",
        "Q1 = df['2010'].describe()['25%']\n",
        "IQR = Q3 - Q1\n",
        "\n",
        "print(IQR)"
      ],
      "execution_count": 0,
      "outputs": [
        {
          "output_type": "stream",
          "text": [
            "5.913965012999999\n"
          ],
          "name": "stdout"
        }
      ]
    },
    {
      "metadata": {
        "colab_type": "text",
        "id": "Kxkl4Wj4xuPT"
      },
      "cell_type": "markdown",
      "source": [
        "### **Question 5.3**. One way to define outliers are as points that that are more than 1.5 $\\times$ IQR above the third quartile or below the first quartile. Does the CO$_2$ data set from 2010 contain outliers? If so, which countries are outliers?"
      ]
    },
    {
      "metadata": {
        "colab_type": "code",
        "id": "DHP1e1RMzCCQ",
        "outputId": "8c85c469-a2f7-44b3-ef36-e0c657f3040e",
        "colab": {
          "base_uri": "https://localhost:8080/",
          "height": 34
        }
      },
      "cell_type": "code",
      "source": [
        "#First find the bounds beyond which we have outliers\n",
        "\n",
        "Upper_bound = Q3 + 1.5*IQR\n",
        "Lower_bound = Q1 - 1.5*IQR\n",
        "\n",
        "print(Lower_bound, Upper_bound)"
      ],
      "execution_count": 0,
      "outputs": [
        {
          "output_type": "stream",
          "text": [
            "-8.204185106 15.451674945999999\n"
          ],
          "name": "stdout"
        }
      ]
    },
    {
      "metadata": {
        "colab_type": "text",
        "id": "fadzdA8Q37oc"
      },
      "cell_type": "markdown",
      "source": [
        "Note that the lower bound is negative. Since the values of the CO$_2$ emission are all positive, we know that we won't have any outliers on the low end."
      ]
    },
    {
      "metadata": {
        "colab_type": "code",
        "id": "I1ksLt-h01du",
        "outputId": "32d53ec5-c8ab-4cf6-b809-10f767763a2c",
        "colab": {
          "base_uri": "https://localhost:8080/",
          "height": 452
        }
      },
      "cell_type": "code",
      "source": [
        "#Find if any values are beyond the upper bound\n",
        "\n",
        "df[['Country Name','2010']][df['2010'] > Upper_bound]"
      ],
      "execution_count": 0,
      "outputs": [
        {
          "output_type": "execute_result",
          "data": {
            "text/html": [
              "<div>\n",
              "<style scoped>\n",
              "    .dataframe tbody tr th:only-of-type {\n",
              "        vertical-align: middle;\n",
              "    }\n",
              "\n",
              "    .dataframe tbody tr th {\n",
              "        vertical-align: top;\n",
              "    }\n",
              "\n",
              "    .dataframe thead th {\n",
              "        text-align: right;\n",
              "    }\n",
              "</style>\n",
              "<table border=\"1\" class=\"dataframe\">\n",
              "  <thead>\n",
              "    <tr style=\"text-align: right;\">\n",
              "      <th></th>\n",
              "      <th>Country Name</th>\n",
              "      <th>2010</th>\n",
              "    </tr>\n",
              "  </thead>\n",
              "  <tbody>\n",
              "    <tr>\n",
              "      <th>0</th>\n",
              "      <td>Aruba</td>\n",
              "      <td>24.670529</td>\n",
              "    </tr>\n",
              "    <tr>\n",
              "      <th>5</th>\n",
              "      <td>United Arab Emirates</td>\n",
              "      <td>19.443690</td>\n",
              "    </tr>\n",
              "    <tr>\n",
              "      <th>10</th>\n",
              "      <td>Australia</td>\n",
              "      <td>17.740845</td>\n",
              "    </tr>\n",
              "    <tr>\n",
              "      <th>19</th>\n",
              "      <td>Bahrain</td>\n",
              "      <td>23.585481</td>\n",
              "    </tr>\n",
              "    <tr>\n",
              "      <th>28</th>\n",
              "      <td>Brunei Darussalam</td>\n",
              "      <td>21.105946</td>\n",
              "    </tr>\n",
              "    <tr>\n",
              "      <th>32</th>\n",
              "      <td>Canada</td>\n",
              "      <td>15.723167</td>\n",
              "    </tr>\n",
              "    <tr>\n",
              "      <th>106</th>\n",
              "      <td>Kuwait</td>\n",
              "      <td>29.894151</td>\n",
              "    </tr>\n",
              "    <tr>\n",
              "      <th>116</th>\n",
              "      <td>Luxembourg</td>\n",
              "      <td>21.635136</td>\n",
              "    </tr>\n",
              "    <tr>\n",
              "      <th>149</th>\n",
              "      <td>Oman</td>\n",
              "      <td>15.590531</td>\n",
              "    </tr>\n",
              "    <tr>\n",
              "      <th>163</th>\n",
              "      <td>Qatar</td>\n",
              "      <td>40.742018</td>\n",
              "    </tr>\n",
              "    <tr>\n",
              "      <th>168</th>\n",
              "      <td>Saudi Arabia</td>\n",
              "      <td>18.905342</td>\n",
              "    </tr>\n",
              "    <tr>\n",
              "      <th>196</th>\n",
              "      <td>Trinidad and Tobago</td>\n",
              "      <td>36.092933</td>\n",
              "    </tr>\n",
              "    <tr>\n",
              "      <th>204</th>\n",
              "      <td>United States</td>\n",
              "      <td>17.442166</td>\n",
              "    </tr>\n",
              "  </tbody>\n",
              "</table>\n",
              "</div>"
            ],
            "text/plain": [
              "             Country Name       2010\n",
              "0                   Aruba  24.670529\n",
              "5    United Arab Emirates  19.443690\n",
              "10              Australia  17.740845\n",
              "19                Bahrain  23.585481\n",
              "28      Brunei Darussalam  21.105946\n",
              "32                 Canada  15.723167\n",
              "106                Kuwait  29.894151\n",
              "116            Luxembourg  21.635136\n",
              "149                  Oman  15.590531\n",
              "163                 Qatar  40.742018\n",
              "168          Saudi Arabia  18.905342\n",
              "196   Trinidad and Tobago  36.092933\n",
              "204         United States  17.442166"
            ]
          },
          "metadata": {
            "tags": []
          },
          "execution_count": 15
        }
      ]
    },
    {
      "metadata": {
        "colab_type": "code",
        "id": "EzWSpp0Dhrtm",
        "outputId": "948e1268-91c5-41f5-e846-486d46422c01",
        "colab": {
          "base_uri": "https://localhost:8080/",
          "height": 34
        }
      },
      "cell_type": "code",
      "source": [
        "np.shape(df[['Country Name','2010']][df['2010'] > Upper_bound])"
      ],
      "execution_count": 0,
      "outputs": [
        {
          "output_type": "execute_result",
          "data": {
            "text/plain": [
              "(13, 2)"
            ]
          },
          "metadata": {
            "tags": []
          },
          "execution_count": 16
        }
      ]
    },
    {
      "metadata": {
        "colab_type": "text",
        "id": "ZewbHjkL3S7S"
      },
      "cell_type": "markdown",
      "source": [
        "We have 13 outliers, all of which emit the most CO$_2$. "
      ]
    },
    {
      "metadata": {
        "colab_type": "text",
        "id": "KwvhyEou5O-p"
      },
      "cell_type": "markdown",
      "source": [
        "Another way to describe where a point falls in a distribution is using the z-score. The z-score of a value $x$ is defined as $\\displaystyle z = \\frac{x - \\bar{x}}{s}$."
      ]
    },
    {
      "metadata": {
        "colab_type": "text",
        "id": "SBdq7SlO3trd"
      },
      "cell_type": "markdown",
      "source": [
        "### **Question 5.4**. What does it tell you about where $x$ lies in the distribution if its z-score is positive or negative?"
      ]
    },
    {
      "metadata": {
        "colab_type": "text",
        "id": "bvvFERIZ5obo"
      },
      "cell_type": "markdown",
      "source": [
        "If the z-score is positive, then $x$ is greater than the mean.\n",
        "\n",
        "If the z-score is negative, then $x$ is less than the mean."
      ]
    },
    {
      "metadata": {
        "colab_type": "text",
        "id": "v1IYNnXA5yh7"
      },
      "cell_type": "markdown",
      "source": [
        "### **Question 5.5**. For a distribution that follows the bell-shaped Normal curve, we have a 68 − 95 − 99.7% rule that says that 68% of the distribution will be within 1 standard deviation of the mean, 95% of the distribution will be within 2 standard deviations of the mean, and 99.7% of the distribution will be within 3 standard deviations of the mean. If we try this rule with the CO$_2$ emission data in 2010 to find the middle 95% of the data, do we get reasonable results?"
      ]
    },
    {
      "metadata": {
        "colab_type": "code",
        "id": "gNgc26fDixOJ",
        "outputId": "1dd12c8e-2739-4f81-eabc-0f9fd186ab8b",
        "colab": {
          "base_uri": "https://localhost:8080/",
          "height": 170
        }
      },
      "cell_type": "code",
      "source": [
        "df['2010'].describe()"
      ],
      "execution_count": 0,
      "outputs": [
        {
          "output_type": "execute_result",
          "data": {
            "text/plain": [
              "count    204.000000\n",
              "mean       4.921011\n",
              "std        6.283470\n",
              "min        0.024260\n",
              "25%        0.666762\n",
              "50%        2.594963\n",
              "75%        6.580727\n",
              "max       40.742018\n",
              "Name: 2010, dtype: float64"
            ]
          },
          "metadata": {
            "tags": []
          },
          "execution_count": 17
        }
      ]
    },
    {
      "metadata": {
        "colab_type": "code",
        "id": "9XJKibaxigOY",
        "outputId": "22d2b2a8-c7b5-49d4-c773-f5a364aa03fe",
        "colab": {
          "base_uri": "https://localhost:8080/",
          "height": 34
        }
      },
      "cell_type": "code",
      "source": [
        "U = df['2010'].describe()['mean'] + 2*df['2010'].describe()['std']\n",
        "\n",
        "L = df['2010'].describe()['mean'] - 2*df['2010'].describe()['std']\n",
        "\n",
        "print(L, U)"
      ],
      "execution_count": 0,
      "outputs": [
        {
          "output_type": "stream",
          "text": [
            "-7.645929654035815 17.487951222437776\n"
          ],
          "name": "stdout"
        }
      ]
    },
    {
      "metadata": {
        "colab_type": "text",
        "id": "00eQYa-958dU"
      },
      "cell_type": "markdown",
      "source": [
        "From above we know that $\\bar{x} = 4.92$ and $s$ = 6.28. So, a Normal distribution with this mean and standard deviation would have 95% of its values between \n",
        "\n",
        "$\\bar{x} - 2s = -7.65$\n",
        "\n",
        "and \n",
        "\n",
        "$\\bar{x} + 2s = 17.49$\n",
        "\n",
        "This is not particularly reasonable here because we know that CO$_2$ emissions are not negative. We also know from our histogram that the distribution is skewed, not symmetric like the Normal bell curve.\n"
      ]
    },
    {
      "metadata": {
        "colab_type": "text",
        "id": "BlFnpTsR7CHI"
      },
      "cell_type": "markdown",
      "source": [
        "## 6. Graphing the distribution part 2"
      ]
    },
    {
      "metadata": {
        "colab_type": "text",
        "id": "Jl9dLPz07ixt"
      },
      "cell_type": "markdown",
      "source": [
        "Another useful graph for numerical variables is the boxplot. The boxplot is a graph of the 5-number summary. A standard boxplot has a box that extends from the first quartile to the third quartile, with a line in the middle for the median. Lines are drawn from the first quartile to the minumum value and from the third quartile to the maximum value."
      ]
    },
    {
      "metadata": {
        "colab_type": "text",
        "id": "C9r7Ed1I8MPq"
      },
      "cell_type": "markdown",
      "source": [
        "### **Question 6.1**. Create a boxplot of the CO$_2$ emissions in 2010 using the sns.boxplot() function."
      ]
    },
    {
      "metadata": {
        "colab_type": "code",
        "id": "zLLegeP1JdUx",
        "outputId": "c8b1b250-8c85-4a8c-823e-41f6e0d1f0dd",
        "colab": {
          "base_uri": "https://localhost:8080/",
          "height": 430
        }
      },
      "cell_type": "code",
      "source": [
        "sns.boxplot(data=df['2010'].dropna(how='all'),color = 'dodgerblue',width = 0.5,fliersize = 8)\n",
        "\n",
        "#Label the axes\n",
        "plt.xlabel(' ',fontsize = 20)\n",
        "plt.ylabel('CO$_2$ Emissions (metric tons/person)',fontsize = 20)\n",
        "plt.title(' ',fontsize = 20)\n",
        "plt.tick_params(labelsize = 16)\n",
        "plt.xticks([0],' ')\n",
        "\n",
        "plt.show()"
      ],
      "execution_count": 0,
      "outputs": [
        {
          "output_type": "stream",
          "text": [
            "/usr/local/lib/python3.6/dist-packages/seaborn/categorical.py:454: FutureWarning: remove_na is deprecated and is a private function. Do not use.\n",
            "  box_data = remove_na(group_data)\n"
          ],
          "name": "stderr"
        },
        {
          "output_type": "display_data",
          "data": {
            "image/png": "[encoded data removed]",
            "text/plain": [
              "<matplotlib.figure.Figure at 0x7f03d3b7f588>"
            ]
          },
          "metadata": {
            "tags": []
          }
        }
      ]
    },
    {
      "metadata": {
        "colab_type": "text",
        "id": "Xx5xK9Ig8eeE"
      },
      "cell_type": "markdown",
      "source": [
        "### **Question 6.2**. Compare the boxplot and histogram. Do they provide the same picture of the distribution? Does one provide more detail than the other?"
      ]
    },
    {
      "metadata": {
        "colab_type": "text",
        "id": "h43uNlx88tnU"
      },
      "cell_type": "markdown",
      "source": [
        "The boxplot and the histogram provide similar pictures, but the boxplot is very limited compared to the histogram.\n",
        "\n",
        "It is easier to see the skewness of the distribution in the histogram.\n",
        "\n",
        "Bimodal or multimodal distributions are not easily detected using the boxplot.\n",
        "\n",
        "Boxplots are useful for make a simple comparison of many distributions, but we can create similar graphs that provide more information. An example is a violin plot."
      ]
    },
    {
      "metadata": {
        "colab_type": "text",
        "id": "aBo2wCPlmAGx"
      },
      "cell_type": "markdown",
      "source": [
        "### **Question 6.3**. Add a swarm plot on top of the boxplot."
      ]
    },
    {
      "metadata": {
        "colab_type": "code",
        "id": "3_q36qRB9m_C",
        "outputId": "00321325-f4e5-4fa5-f73d-dbb49809297d",
        "colab": {
          "base_uri": "https://localhost:8080/",
          "height": 430
        }
      },
      "cell_type": "code",
      "source": [
        "#Boxplot\n",
        "sns.boxplot(data=df['2010'],color = 'dodgerblue',whis=np.inf,width = 0.5)\n",
        "\n",
        "#Swarm plot\n",
        "sns.swarmplot(data=df['2010'],color = 'orange',size = 6,alpha = 0.6)\n",
        "\n",
        "#Label the axes\n",
        "plt.xlabel(' ',fontsize = 20)\n",
        "plt.ylabel('CO$_2$ Emissions (metric tons/person)',fontsize = 20)\n",
        "plt.title(' ',fontsize = 20)\n",
        "plt.tick_params(labelsize = 16)\n",
        "plt.xticks([0],' ')\n",
        "\n",
        "plt.show()"
      ],
      "execution_count": 0,
      "outputs": [
        {
          "output_type": "stream",
          "text": [
            "/usr/local/lib/python3.6/dist-packages/seaborn/categorical.py:454: FutureWarning: remove_na is deprecated and is a private function. Do not use.\n",
            "  box_data = remove_na(group_data)\n"
          ],
          "name": "stderr"
        },
        {
          "output_type": "display_data",
          "data": {
            "image/png": "[encoded data removed]",
            "text/plain": [
              "<matplotlib.figure.Figure at 0x7f03d3b7dac8>"
            ]
          },
          "metadata": {
            "tags": []
          }
        }
      ]
    },
    {
      "metadata": {
        "colab_type": "text",
        "id": "Kt1xE3gUmbrB"
      },
      "cell_type": "markdown",
      "source": [
        "## 7. Compare the CO$_2$ distributions in 1960 and 2010."
      ]
    },
    {
      "metadata": {
        "colab_type": "text",
        "id": "I7gMxnfnmu69"
      },
      "cell_type": "markdown",
      "source": [
        "### Question 7.1. Make comparative boxplots of the CO$_2$ emission distributions in 1960 and 2010. Discuss the differences in the distributions."
      ]
    },
    {
      "metadata": {
        "colab_type": "code",
        "id": "3Le3Ct5SnORm",
        "outputId": "2c49aa2f-e0ca-4e80-b7cb-af41f2fcca41",
        "colab": {
          "base_uri": "https://localhost:8080/",
          "height": 430
        }
      },
      "cell_type": "code",
      "source": [
        "sns.boxplot(data=df[['1960','2010']],color = 'dodgerblue')\n",
        "\n",
        "plt.xlabel(' ',fontsize = 20)\n",
        "plt.ylabel('CO$_2$ Emissions (metric tons/person)',fontsize = 20)\n",
        "plt.title(' ',fontsize = 20)\n",
        "\n",
        "plt.tick_params(labelsize = 16)\n",
        "\n",
        "plt.show()"
      ],
      "execution_count": 0,
      "outputs": [
        {
          "output_type": "stream",
          "text": [
            "/usr/local/lib/python3.6/dist-packages/seaborn/categorical.py:454: FutureWarning: remove_na is deprecated and is a private function. Do not use.\n",
            "  box_data = remove_na(group_data)\n"
          ],
          "name": "stderr"
        },
        {
          "output_type": "display_data",
          "data": {
            "image/png": "[encoded data removed]",
            "text/plain": [
              "<matplotlib.figure.Figure at 0x7f03d3b7ec18>"
            ]
          },
          "metadata": {
            "tags": []
          }
        }
      ]
    },
    {
      "metadata": {
        "colab_type": "text",
        "id": "7gY0MGprnROf"
      },
      "cell_type": "markdown",
      "source": [
        "We can also add swarm plots on top of the boxplots."
      ]
    },
    {
      "metadata": {
        "colab_type": "code",
        "id": "sXWVABdqmGcw",
        "outputId": "3d496f8e-d57d-4e08-8c65-ff0504c4f220",
        "colab": {
          "base_uri": "https://localhost:8080/",
          "height": 430
        }
      },
      "cell_type": "code",
      "source": [
        "#Boxplot\n",
        "sns.boxplot(data=df[['1960','2010']],color = 'dodgerblue')\n",
        "\n",
        "#Swarm plot\n",
        "sns.swarmplot(data=df[['1960','2010']],color = 'orange',size = 6,alpha = 0.6)\n",
        "\n",
        "#Label the axes\n",
        "plt.xlabel(' ',fontsize = 20)\n",
        "plt.ylabel('CO$_2$ Emissions (metric tons/person)',fontsize = 20)\n",
        "plt.title(' ',fontsize = 20)\n",
        "plt.tick_params(labelsize = 16)\n",
        "\n",
        "plt.show()"
      ],
      "execution_count": 0,
      "outputs": [
        {
          "output_type": "stream",
          "text": [
            "/usr/local/lib/python3.6/dist-packages/seaborn/categorical.py:454: FutureWarning: remove_na is deprecated and is a private function. Do not use.\n",
            "  box_data = remove_na(group_data)\n"
          ],
          "name": "stderr"
        },
        {
          "output_type": "display_data",
          "data": {
            "image/png": "[encoded data removed]",
            "text/plain": [
              "<matplotlib.figure.Figure at 0x7f03d38db048>"
            ]
          },
          "metadata": {
            "tags": []
          }
        }
      ]
    },
    {
      "metadata": {
        "colab_type": "text",
        "id": "83I6DSZAm8MM"
      },
      "cell_type": "markdown",
      "source": [
        "CO$_2$ emissions in metric tons/person have increased quite a lot between 1960 and 2010.\n",
        "\n",
        "As we see below, the mean has more than doubled and the median is more than 5 times what it was in 1960."
      ]
    },
    {
      "metadata": {
        "colab_type": "code",
        "id": "V9US41Yimi3B",
        "outputId": "19701a5f-f6c1-416b-e26d-562d89fe6668",
        "colab": {
          "base_uri": "https://localhost:8080/",
          "height": 297
        }
      },
      "cell_type": "code",
      "source": [
        "df[['1960','2010']].describe()"
      ],
      "execution_count": 0,
      "outputs": [
        {
          "output_type": "execute_result",
          "data": {
            "text/html": [
              "<div>\n",
              "<style scoped>\n",
              "    .dataframe tbody tr th:only-of-type {\n",
              "        vertical-align: middle;\n",
              "    }\n",
              "\n",
              "    .dataframe tbody tr th {\n",
              "        vertical-align: top;\n",
              "    }\n",
              "\n",
              "    .dataframe thead th {\n",
              "        text-align: right;\n",
              "    }\n",
              "</style>\n",
              "<table border=\"1\" class=\"dataframe\">\n",
              "  <thead>\n",
              "    <tr style=\"text-align: right;\">\n",
              "      <th></th>\n",
              "      <th>1960</th>\n",
              "      <th>2010</th>\n",
              "    </tr>\n",
              "  </thead>\n",
              "  <tbody>\n",
              "    <tr>\n",
              "      <th>count</th>\n",
              "      <td>152.000000</td>\n",
              "      <td>204.000000</td>\n",
              "    </tr>\n",
              "    <tr>\n",
              "      <th>mean</th>\n",
              "      <td>2.070679</td>\n",
              "      <td>4.921011</td>\n",
              "    </tr>\n",
              "    <tr>\n",
              "      <th>std</th>\n",
              "      <td>4.457112</td>\n",
              "      <td>6.283470</td>\n",
              "    </tr>\n",
              "    <tr>\n",
              "      <th>min</th>\n",
              "      <td>0.008017</td>\n",
              "      <td>0.024260</td>\n",
              "    </tr>\n",
              "    <tr>\n",
              "      <th>25%</th>\n",
              "      <td>0.144445</td>\n",
              "      <td>0.666762</td>\n",
              "    </tr>\n",
              "    <tr>\n",
              "      <th>50%</th>\n",
              "      <td>0.480395</td>\n",
              "      <td>2.594963</td>\n",
              "    </tr>\n",
              "    <tr>\n",
              "      <th>75%</th>\n",
              "      <td>1.790830</td>\n",
              "      <td>6.580727</td>\n",
              "    </tr>\n",
              "    <tr>\n",
              "      <th>max</th>\n",
              "      <td>36.685183</td>\n",
              "      <td>40.742018</td>\n",
              "    </tr>\n",
              "  </tbody>\n",
              "</table>\n",
              "</div>"
            ],
            "text/plain": [
              "             1960        2010\n",
              "count  152.000000  204.000000\n",
              "mean     2.070679    4.921011\n",
              "std      4.457112    6.283470\n",
              "min      0.008017    0.024260\n",
              "25%      0.144445    0.666762\n",
              "50%      0.480395    2.594963\n",
              "75%      1.790830    6.580727\n",
              "max     36.685183   40.742018"
            ]
          },
          "metadata": {
            "tags": []
          },
          "execution_count": 23
        }
      ]
    }
  ]
}