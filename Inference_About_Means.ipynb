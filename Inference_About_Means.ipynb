{
  "nbformat": 4,
  "nbformat_minor": 0,
  "metadata": {
    "colab": {
      "name": "Inference About Means.ipynb",
      "version": "0.3.2",
      "provenance": [],
      "collapsed_sections": [
        "omFBzFn9SQyi",
        "zZhx0lTXS-bx",
        "nnXhUyNdTDf-"
      ],
      "include_colab_link": true
    },
    "kernelspec": {
      "name": "python3",
      "display_name": "Python 3"
    }
  },
  "cells": [
    {
      "cell_type": "markdown",
      "metadata": {
        "id": "view-in-github",
        "colab_type": "text"
      },
      "source": [
        "<a href=\"https://colab.research.google.com/github/linhmitless/StatColabNotebook/blob/master/Inference_About_Means.ipynb\" target=\"_parent\"><img src=\"https://colab.research.google.com/assets/colab-badge.svg\" alt=\"Open In Colab\"/></a>"
      ]
    },
    {
      "metadata": {
        "colab_type": "text",
        "id": "XZx8FqxPLJlx"
      },
      "cell_type": "markdown",
      "source": [
        "## Import libraries\n"
      ]
    },
    {
      "metadata": {
        "colab_type": "code",
        "id": "a4jp_iW3-RWw",
        "outputId": "0d7464ae-513e-409e-e096-58e2b6058b8d",
        "colab": {
          "base_uri": "https://localhost:8080/",
          "height": 72
        }
      },
      "cell_type": "code",
      "source": [
        "import numpy as np\n",
        "import matplotlib.pyplot as plt\n",
        "from scipy.stats import t\n",
        "from scipy.stats import norm\n",
        "import pandas as pd\n",
        "import seaborn as sns \n",
        "import scipy.stats as stats\n",
        "import statsmodels.api as sm\n",
        "sns.set_style(\"whitegrid\")"
      ],
      "execution_count": 0,
      "outputs": [
        {
          "output_type": "stream",
          "text": [
            "/usr/local/lib/python3.6/dist-packages/statsmodels/compat/pandas.py:56: FutureWarning: The pandas.core.datetools module is deprecated and will be removed in a future version. Please use the pandas.tseries module instead.\n",
            "  from pandas.core import datetools\n"
          ],
          "name": "stderr"
        }
      ]
    },
    {
      "metadata": {
        "id": "ASObW9_bRQ1H",
        "colab_type": "text"
      },
      "cell_type": "markdown",
      "source": [
        "## One-sample t confidence interval"
      ]
    },
    {
      "metadata": {
        "id": "omFBzFn9SQyi",
        "colab_type": "text"
      },
      "cell_type": "markdown",
      "source": [
        "### Load the data"
      ]
    },
    {
      "metadata": {
        "id": "Fy86auNzRUOE",
        "colab_type": "code",
        "outputId": "3c639022-c353-4741-e9ad-77f4e77591ea",
        "colab": {
          "base_uri": "https://localhost:8080/",
          "height": 383
        }
      },
      "cell_type": "code",
      "source": [
        "!wget https://www.dropbox.com/s/ehibtnrx86z3n3z/BodyTemp.csv?dl=0"
      ],
      "execution_count": 0,
      "outputs": [
        {
          "output_type": "stream",
          "text": [
            "--2019-01-27 19:40:22--  https://www.dropbox.com/s/ehibtnrx86z3n3z/BodyTemp.csv?dl=0\n",
            "Resolving www.dropbox.com (www.dropbox.com)... 162.125.8.1, 2620:100:601b:1::a27d:801\n",
            "Connecting to www.dropbox.com (www.dropbox.com)|162.125.8.1|:443... connected.\n",
            "HTTP request sent, awaiting response... 301 Moved Permanently\n",
            "Location: /s/raw/ehibtnrx86z3n3z/BodyTemp.csv [following]\n",
            "--2019-01-27 19:40:22--  https://www.dropbox.com/s/raw/ehibtnrx86z3n3z/BodyTemp.csv\n",
            "Reusing existing connection to www.dropbox.com:443.\n",
            "HTTP request sent, awaiting response... 302 Found\n",
            "Location: https://uc14b7c495cfabe6aa0236deeb6d.dl.dropboxusercontent.com/cd/0/inline/AaPVWbPFLPOsVLqYBOg1y7jeLJpsJD0noooyu1rro-dgx3jnXhFnhnBt2KzS610dhPwG8L8dVMJNJuddNWvs2sCzPNnN1BuDxSYnGZZSGlpTsfdR8fR3zwxOutCkvFV7Hy0/file# [following]\n",
            "--2019-01-27 19:40:22--  https://uc14b7c495cfabe6aa0236deeb6d.dl.dropboxusercontent.com/cd/0/inline/AaPVWbPFLPOsVLqYBOg1y7jeLJpsJD0noooyu1rro-dgx3jnXhFnhnBt2KzS610dhPwG8L8dVMJNJuddNWvs2sCzPNnN1BuDxSYnGZZSGlpTsfdR8fR3zwxOutCkvFV7Hy0/file\n",
            "Resolving uc14b7c495cfabe6aa0236deeb6d.dl.dropboxusercontent.com (uc14b7c495cfabe6aa0236deeb6d.dl.dropboxusercontent.com)... 162.125.81.6, 2620:100:601f:6::a27d:906\n",
            "Connecting to uc14b7c495cfabe6aa0236deeb6d.dl.dropboxusercontent.com (uc14b7c495cfabe6aa0236deeb6d.dl.dropboxusercontent.com)|162.125.81.6|:443... connected.\n",
            "HTTP request sent, awaiting response... 200 OK\n",
            "Length: 1462 (1.4K) [text/plain]\n",
            "Saving to: ‘BodyTemp.csv?dl=0’\n",
            "\n",
            "BodyTemp.csv?dl=0   100%[===================>]   1.43K  --.-KB/s    in 0s      \n",
            "\n",
            "2019-01-27 19:40:24 (181 MB/s) - ‘BodyTemp.csv?dl=0’ saved [1462/1462]\n",
            "\n"
          ],
          "name": "stdout"
        }
      ]
    },
    {
      "metadata": {
        "id": "zZhx0lTXS-bx",
        "colab_type": "text"
      },
      "cell_type": "markdown",
      "source": [
        "### Create a data frame"
      ]
    },
    {
      "metadata": {
        "id": "5gQCg4ZoRo24",
        "colab_type": "code",
        "colab": {}
      },
      "cell_type": "code",
      "source": [
        "df = pd.read_csv('BodyTemp.csv?dl=0')"
      ],
      "execution_count": 0,
      "outputs": []
    },
    {
      "metadata": {
        "id": "nnXhUyNdTDf-",
        "colab_type": "text"
      },
      "cell_type": "markdown",
      "source": [
        "### Look at the data"
      ]
    },
    {
      "metadata": {
        "id": "EdRhtuTNR57q",
        "colab_type": "code",
        "outputId": "e02be839-5fbb-4dff-e1ac-53548e36d89d",
        "colab": {
          "base_uri": "https://localhost:8080/",
          "height": 198
        }
      },
      "cell_type": "code",
      "source": [
        "df.head()"
      ],
      "execution_count": 0,
      "outputs": [
        {
          "output_type": "execute_result",
          "data": {
            "text/html": [
              "<div>\n",
              "<style scoped>\n",
              "    .dataframe tbody tr th:only-of-type {\n",
              "        vertical-align: middle;\n",
              "    }\n",
              "\n",
              "    .dataframe tbody tr th {\n",
              "        vertical-align: top;\n",
              "    }\n",
              "\n",
              "    .dataframe thead th {\n",
              "        text-align: right;\n",
              "    }\n",
              "</style>\n",
              "<table border=\"1\" class=\"dataframe\">\n",
              "  <thead>\n",
              "    <tr style=\"text-align: right;\">\n",
              "      <th></th>\n",
              "      <th>Body Temp</th>\n",
              "      <th>Gender</th>\n",
              "      <th>Heart Rate</th>\n",
              "    </tr>\n",
              "  </thead>\n",
              "  <tbody>\n",
              "    <tr>\n",
              "      <th>0</th>\n",
              "      <td>96.3</td>\n",
              "      <td>2</td>\n",
              "      <td>70</td>\n",
              "    </tr>\n",
              "    <tr>\n",
              "      <th>1</th>\n",
              "      <td>96.7</td>\n",
              "      <td>2</td>\n",
              "      <td>71</td>\n",
              "    </tr>\n",
              "    <tr>\n",
              "      <th>2</th>\n",
              "      <td>96.9</td>\n",
              "      <td>2</td>\n",
              "      <td>74</td>\n",
              "    </tr>\n",
              "    <tr>\n",
              "      <th>3</th>\n",
              "      <td>97.0</td>\n",
              "      <td>2</td>\n",
              "      <td>80</td>\n",
              "    </tr>\n",
              "    <tr>\n",
              "      <th>4</th>\n",
              "      <td>97.1</td>\n",
              "      <td>2</td>\n",
              "      <td>73</td>\n",
              "    </tr>\n",
              "  </tbody>\n",
              "</table>\n",
              "</div>"
            ],
            "text/plain": [
              "   Body Temp  Gender  Heart Rate\n",
              "0       96.3       2          70\n",
              "1       96.7       2          71\n",
              "2       96.9       2          74\n",
              "3       97.0       2          80\n",
              "4       97.1       2          73"
            ]
          },
          "metadata": {
            "tags": []
          },
          "execution_count": 4
        }
      ]
    },
    {
      "metadata": {
        "id": "99cr_D4Gpt6p",
        "colab_type": "text"
      },
      "cell_type": "markdown",
      "source": [
        "Make a histogram"
      ]
    },
    {
      "metadata": {
        "id": "SFgdFHngpp0X",
        "colab_type": "code",
        "outputId": "e634c90b-ebdc-443f-e30d-7bf92ec3b3ba",
        "colab": {
          "base_uri": "https://localhost:8080/",
          "height": 396
        }
      },
      "cell_type": "code",
      "source": [
        "df.hist('Body Temp',bins = 15,alpha = .7)\n",
        "\n",
        "plt.xlabel('Body Temperature (deg)',fontsize = 20)\n",
        "plt.ylabel('Count',fontsize = 20)\n",
        "plt.title(' ',fontsize = 20)\n",
        "\n",
        "plt.tick_params(labelsize = 16)\n",
        "\n",
        "plt.show()"
      ],
      "execution_count": 0,
      "outputs": [
        {
          "output_type": "display_data",
          "data": {
            "image/png": "[encoded data removed]",
            "text/plain": [
              "<Figure size 576x396 with 1 Axes>"
            ]
          },
          "metadata": {
            "tags": []
          }
        }
      ]
    },
    {
      "metadata": {
        "id": "XDXnzdm-p5Mb",
        "colab_type": "text"
      },
      "cell_type": "markdown",
      "source": [
        "Use a q-q plot to assess how well a Normal distribution models the data."
      ]
    },
    {
      "metadata": {
        "id": "2SHhtAdHwHKU",
        "colab_type": "code",
        "outputId": "4f317ddb-fce3-46a6-e594-47adf5e43dde",
        "colab": {
          "base_uri": "https://localhost:8080/",
          "height": 375
        }
      },
      "cell_type": "code",
      "source": [
        "fig = sm.qqplot(df['Body Temp'], dist=\"norm\",fit = True,line = '45')\n",
        "plt.xlabel('Normal Quantiles',fontsize=20)\n",
        "plt.ylabel('Observed Quantiles',fontsize=20)\n",
        "plt.xticks(fontsize=15)\n",
        "plt.yticks(fontsize=15)\n",
        "plt.title('')\n",
        "\n",
        "plt.show()"
      ],
      "execution_count": 0,
      "outputs": [
        {
          "output_type": "display_data",
          "data": {
            "image/png": "[encoded data removed]",
            "text/plain": [
              "<Figure size 576x396 with 1 Axes>"
            ]
          },
          "metadata": {
            "tags": []
          }
        }
      ]
    },
    {
      "metadata": {
        "id": "Zhj5Nyxb1xHH",
        "colab_type": "text"
      },
      "cell_type": "markdown",
      "source": [
        "### Compute the one-sample t confidence interval"
      ]
    },
    {
      "metadata": {
        "id": "7j2Tyha3Thu_",
        "colab_type": "code",
        "outputId": "ea9524f9-a877-4a1f-c54b-b20895bf1e5f",
        "colab": {
          "base_uri": "https://localhost:8080/",
          "height": 35
        }
      },
      "cell_type": "code",
      "source": [
        "#Get a column of the data frame\n",
        "X = df['Body Temp']\n",
        "\n",
        "#Compute the components of a confidence interval\n",
        "mu = X.describe()['mean'] #can also use mu = np.mean(X)\n",
        "sd = X.describe()['std'] #can also use sd = np.std(X,ddof = 1)\n",
        "n = np.size(X)\n",
        "se = sd/np.sqrt(n)\n",
        "v = n - 1\n",
        "c_level = 0.95\n",
        "\n",
        "#Combine the components to form confidence interval. This function computes the necessary t critical value.\n",
        "stats.t.interval(c_level,loc = mu, scale = se,df = v)"
      ],
      "execution_count": 0,
      "outputs": [
        {
          "output_type": "execute_result",
          "data": {
            "text/plain": [
              "(98.12200290560803, 98.3764586328535)"
            ]
          },
          "metadata": {
            "tags": []
          },
          "execution_count": 10
        }
      ]
    },
    {
      "metadata": {
        "id": "yqfvDpsl6J9K",
        "colab_type": "text"
      },
      "cell_type": "markdown",
      "source": [
        "## One-sample t test"
      ]
    },
    {
      "metadata": {
        "id": "RDc3Uz4H9aAy",
        "colab_type": "text"
      },
      "cell_type": "markdown",
      "source": [
        "We will use the body temperature data again, so we have alread done the initial steps of importing the data, creating a data frame, and plotting the data."
      ]
    },
    {
      "metadata": {
        "id": "6etpyL1v9k4_",
        "colab_type": "text"
      },
      "cell_type": "markdown",
      "source": [
        "### One-sample t test for the mean"
      ]
    },
    {
      "metadata": {
        "id": "wfM0v1xm6MWZ",
        "colab_type": "code",
        "outputId": "b43c194f-a1de-483f-ca67-dcea7bea22ce",
        "colab": {
          "base_uri": "https://localhost:8080/",
          "height": 35
        }
      },
      "cell_type": "code",
      "source": [
        "#Specify the mean under the null hypothesis\n",
        "null_mu = 98.6\n",
        "\n",
        "#Get a column of the data frame\n",
        "X = df['Body Temp']\n",
        "\n",
        "#Find the t statistic and p-value\n",
        "stats.ttest_1samp(X, null_mu)"
      ],
      "execution_count": 0,
      "outputs": [
        {
          "output_type": "execute_result",
          "data": {
            "text/plain": [
              "Ttest_1sampResult(statistic=-5.454823292364077, pvalue=2.410632041561008e-07)"
            ]
          },
          "metadata": {
            "tags": []
          },
          "execution_count": 9
        }
      ]
    },
    {
      "metadata": {
        "id": "6XTYiCD4_m8R",
        "colab_type": "text"
      },
      "cell_type": "markdown",
      "source": [
        "You can compare the p-value to a significance level to make a decision."
      ]
    },
    {
      "metadata": {
        "id": "NtQc-BeR8_WV",
        "colab_type": "text"
      },
      "cell_type": "markdown",
      "source": [
        "## Paired-samples t confidence interval"
      ]
    },
    {
      "metadata": {
        "colab_type": "text",
        "id": "Ix1oar949zEg"
      },
      "cell_type": "markdown",
      "source": [
        "### Load the data"
      ]
    },
    {
      "metadata": {
        "colab_type": "code",
        "outputId": "9dbd8f9a-dff4-4b5d-bb00-1107d11cdb65",
        "id": "HwRkC6q49zEh",
        "colab": {
          "base_uri": "https://localhost:8080/",
          "height": 383
        }
      },
      "cell_type": "code",
      "source": [
        "!wget https://www.dropbox.com/s/brj261dcjynib17/DrugAbsorption.csv?dl=0"
      ],
      "execution_count": 0,
      "outputs": [
        {
          "output_type": "stream",
          "text": [
            "--2019-01-27 20:18:45--  https://www.dropbox.com/s/brj261dcjynib17/DrugAbsorption.csv?dl=0\n",
            "Resolving www.dropbox.com (www.dropbox.com)... 162.125.81.1, 2620:100:601f:1::a27d:901\n",
            "Connecting to www.dropbox.com (www.dropbox.com)|162.125.81.1|:443... connected.\n",
            "HTTP request sent, awaiting response... 301 Moved Permanently\n",
            "Location: /s/raw/brj261dcjynib17/DrugAbsorption.csv [following]\n",
            "--2019-01-27 20:18:46--  https://www.dropbox.com/s/raw/brj261dcjynib17/DrugAbsorption.csv\n",
            "Reusing existing connection to www.dropbox.com:443.\n",
            "HTTP request sent, awaiting response... 302 Found\n",
            "Location: https://ucbc556ac78e3fd20d66b2c33687.dl.dropboxusercontent.com/cd/0/inline/AaPdElreAoW84nHm2doBzsX9z2HPViOwwUF3AOoMzmss0Epke50hdzXDkzj5_1jvYPKW-C4k5HYH-0HAfLELPvFVu7G4Ind9X7kmDGDAXZUbAXPWD2VKtCgUyBIWKXAECxU/file# [following]\n",
            "--2019-01-27 20:18:47--  https://ucbc556ac78e3fd20d66b2c33687.dl.dropboxusercontent.com/cd/0/inline/AaPdElreAoW84nHm2doBzsX9z2HPViOwwUF3AOoMzmss0Epke50hdzXDkzj5_1jvYPKW-C4k5HYH-0HAfLELPvFVu7G4Ind9X7kmDGDAXZUbAXPWD2VKtCgUyBIWKXAECxU/file\n",
            "Resolving ucbc556ac78e3fd20d66b2c33687.dl.dropboxusercontent.com (ucbc556ac78e3fd20d66b2c33687.dl.dropboxusercontent.com)... 162.125.8.6, 2620:100:601b:6::a27d:806\n",
            "Connecting to ucbc556ac78e3fd20d66b2c33687.dl.dropboxusercontent.com (ucbc556ac78e3fd20d66b2c33687.dl.dropboxusercontent.com)|162.125.8.6|:443... connected.\n",
            "HTTP request sent, awaiting response... 200 OK\n",
            "Length: 288 [text/plain]\n",
            "Saving to: ‘DrugAbsorption.csv?dl=0’\n",
            "\n",
            "DrugAbsorption.csv? 100%[===================>]     288  --.-KB/s    in 0s      \n",
            "\n",
            "2019-01-27 20:18:47 (36.9 MB/s) - ‘DrugAbsorption.csv?dl=0’ saved [288/288]\n",
            "\n"
          ],
          "name": "stdout"
        }
      ]
    },
    {
      "metadata": {
        "id": "7bCwXU0d-Cuf",
        "colab_type": "text"
      },
      "cell_type": "markdown",
      "source": [
        "### Create a data frame"
      ]
    },
    {
      "metadata": {
        "id": "9tUrULha-Ew6",
        "colab_type": "code",
        "colab": {}
      },
      "cell_type": "code",
      "source": [
        "df = pd.read_csv('DrugAbsorption.csv?dl=0')"
      ],
      "execution_count": 0,
      "outputs": []
    },
    {
      "metadata": {
        "id": "ggJem92b-IEv",
        "colab_type": "text"
      },
      "cell_type": "markdown",
      "source": [
        "### Look at the data"
      ]
    },
    {
      "metadata": {
        "id": "jjWYDm-KpWEu",
        "colab_type": "text"
      },
      "cell_type": "markdown",
      "source": [
        "Look at the data frame to see what variables you have."
      ]
    },
    {
      "metadata": {
        "id": "K2iy7ztupSDr",
        "colab_type": "code",
        "outputId": "d1fa2737-e3f5-456d-dd19-3b38b3e130ee",
        "colab": {
          "base_uri": "https://localhost:8080/",
          "height": 198
        }
      },
      "cell_type": "code",
      "source": [
        "df.head()"
      ],
      "execution_count": 0,
      "outputs": [
        {
          "output_type": "execute_result",
          "data": {
            "text/html": [
              "<div>\n",
              "<style scoped>\n",
              "    .dataframe tbody tr th:only-of-type {\n",
              "        vertical-align: middle;\n",
              "    }\n",
              "\n",
              "    .dataframe tbody tr th {\n",
              "        vertical-align: top;\n",
              "    }\n",
              "\n",
              "    .dataframe thead th {\n",
              "        text-align: right;\n",
              "    }\n",
              "</style>\n",
              "<table border=\"1\" class=\"dataframe\">\n",
              "  <thead>\n",
              "    <tr style=\"text-align: right;\">\n",
              "      <th></th>\n",
              "      <th>Subject</th>\n",
              "      <th>Reference drug</th>\n",
              "      <th>Generic drug</th>\n",
              "    </tr>\n",
              "  </thead>\n",
              "  <tbody>\n",
              "    <tr>\n",
              "      <th>0</th>\n",
              "      <td>15</td>\n",
              "      <td>4108</td>\n",
              "      <td>1755</td>\n",
              "    </tr>\n",
              "    <tr>\n",
              "      <th>1</th>\n",
              "      <td>3</td>\n",
              "      <td>2526</td>\n",
              "      <td>1138</td>\n",
              "    </tr>\n",
              "    <tr>\n",
              "      <th>2</th>\n",
              "      <td>9</td>\n",
              "      <td>2779</td>\n",
              "      <td>1613</td>\n",
              "    </tr>\n",
              "    <tr>\n",
              "      <th>3</th>\n",
              "      <td>13</td>\n",
              "      <td>3852</td>\n",
              "      <td>2254</td>\n",
              "    </tr>\n",
              "    <tr>\n",
              "      <th>4</th>\n",
              "      <td>12</td>\n",
              "      <td>1833</td>\n",
              "      <td>1310</td>\n",
              "    </tr>\n",
              "  </tbody>\n",
              "</table>\n",
              "</div>"
            ],
            "text/plain": [
              "   Subject  Reference drug  Generic drug\n",
              "0       15            4108          1755\n",
              "1        3            2526          1138\n",
              "2        9            2779          1613\n",
              "3       13            3852          2254\n",
              "4       12            1833          1310"
            ]
          },
          "metadata": {
            "tags": []
          },
          "execution_count": 14
        }
      ]
    },
    {
      "metadata": {
        "id": "5MTwUvm1pcpw",
        "colab_type": "text"
      },
      "cell_type": "markdown",
      "source": [
        "We want to examine the differences between the reference and generic drugs. Create a new variable representing this difference."
      ]
    },
    {
      "metadata": {
        "id": "PnMoZB8qpZX5",
        "colab_type": "code",
        "colab": {}
      },
      "cell_type": "code",
      "source": [
        "df['Difference'] = df['Reference drug'] - df['Generic drug']"
      ],
      "execution_count": 0,
      "outputs": []
    },
    {
      "metadata": {
        "id": "UZqQdwprpnXX",
        "colab_type": "text"
      },
      "cell_type": "markdown",
      "source": [
        "Look at the data frame to see what changed."
      ]
    },
    {
      "metadata": {
        "id": "jVtNYyHLpkoh",
        "colab_type": "code",
        "outputId": "51d81f55-6402-44a3-feb8-a65f3d48bcf3",
        "colab": {
          "base_uri": "https://localhost:8080/",
          "height": 198
        }
      },
      "cell_type": "code",
      "source": [
        "df.head()"
      ],
      "execution_count": 0,
      "outputs": [
        {
          "output_type": "execute_result",
          "data": {
            "text/html": [
              "<div>\n",
              "<style scoped>\n",
              "    .dataframe tbody tr th:only-of-type {\n",
              "        vertical-align: middle;\n",
              "    }\n",
              "\n",
              "    .dataframe tbody tr th {\n",
              "        vertical-align: top;\n",
              "    }\n",
              "\n",
              "    .dataframe thead th {\n",
              "        text-align: right;\n",
              "    }\n",
              "</style>\n",
              "<table border=\"1\" class=\"dataframe\">\n",
              "  <thead>\n",
              "    <tr style=\"text-align: right;\">\n",
              "      <th></th>\n",
              "      <th>Subject</th>\n",
              "      <th>Reference drug</th>\n",
              "      <th>Generic drug</th>\n",
              "      <th>Difference</th>\n",
              "    </tr>\n",
              "  </thead>\n",
              "  <tbody>\n",
              "    <tr>\n",
              "      <th>0</th>\n",
              "      <td>15</td>\n",
              "      <td>4108</td>\n",
              "      <td>1755</td>\n",
              "      <td>2353</td>\n",
              "    </tr>\n",
              "    <tr>\n",
              "      <th>1</th>\n",
              "      <td>3</td>\n",
              "      <td>2526</td>\n",
              "      <td>1138</td>\n",
              "      <td>1388</td>\n",
              "    </tr>\n",
              "    <tr>\n",
              "      <th>2</th>\n",
              "      <td>9</td>\n",
              "      <td>2779</td>\n",
              "      <td>1613</td>\n",
              "      <td>1166</td>\n",
              "    </tr>\n",
              "    <tr>\n",
              "      <th>3</th>\n",
              "      <td>13</td>\n",
              "      <td>3852</td>\n",
              "      <td>2254</td>\n",
              "      <td>1598</td>\n",
              "    </tr>\n",
              "    <tr>\n",
              "      <th>4</th>\n",
              "      <td>12</td>\n",
              "      <td>1833</td>\n",
              "      <td>1310</td>\n",
              "      <td>523</td>\n",
              "    </tr>\n",
              "  </tbody>\n",
              "</table>\n",
              "</div>"
            ],
            "text/plain": [
              "   Subject  Reference drug  Generic drug  Difference\n",
              "0       15            4108          1755        2353\n",
              "1        3            2526          1138        1388\n",
              "2        9            2779          1613        1166\n",
              "3       13            3852          2254        1598\n",
              "4       12            1833          1310         523"
            ]
          },
          "metadata": {
            "tags": []
          },
          "execution_count": 16
        }
      ]
    },
    {
      "metadata": {
        "colab_type": "text",
        "id": "8inI8oNA-VPz"
      },
      "cell_type": "markdown",
      "source": [
        "Plot a histogram of the difference."
      ]
    },
    {
      "metadata": {
        "colab_type": "code",
        "outputId": "3560aad4-2141-41ab-8f35-7f18fe4f66a6",
        "id": "bMMDOoHN-VP0",
        "colab": {
          "base_uri": "https://localhost:8080/",
          "height": 396
        }
      },
      "cell_type": "code",
      "source": [
        "df.hist('Difference',bins = 15,alpha = .7)\n",
        "\n",
        "plt.xlabel('Absorption difference',fontsize = 20)\n",
        "plt.ylabel('Count',fontsize = 20)\n",
        "plt.title(' ',fontsize = 20)\n",
        "\n",
        "plt.tick_params(labelsize = 16)\n",
        "\n",
        "plt.show()"
      ],
      "execution_count": 0,
      "outputs": [
        {
          "output_type": "display_data",
          "data": {
            "image/png": "[encoded data removed]",
            "text/plain": [
              "<Figure size 576x396 with 1 Axes>"
            ]
          },
          "metadata": {
            "tags": []
          }
        }
      ]
    },
    {
      "metadata": {
        "colab_type": "text",
        "id": "ITCG9mEg-VP5"
      },
      "cell_type": "markdown",
      "source": [
        "Use a Q-Q plot to assess how well a Normal distribution models the data."
      ]
    },
    {
      "metadata": {
        "colab_type": "code",
        "outputId": "65f49816-5043-4087-bd06-75a1caeb24da",
        "id": "Mz0UPmmr-VP6",
        "colab": {
          "base_uri": "https://localhost:8080/",
          "height": 375
        }
      },
      "cell_type": "code",
      "source": [
        "fig = sm.qqplot(df.Difference, dist=\"norm\",fit = True,line = '45')\n",
        "plt.xlabel('Normal Quantiles',fontsize=20)\n",
        "plt.ylabel('Observed Quantiles',fontsize=20)\n",
        "plt.xticks(fontsize=15)\n",
        "plt.yticks(fontsize=15)\n",
        "plt.title('')\n",
        "\n",
        "plt.show()"
      ],
      "execution_count": 0,
      "outputs": [
        {
          "output_type": "display_data",
          "data": {
            "image/png": "[encoded data removed]",
            "text/plain": [
              "<Figure size 576x396 with 1 Axes>"
            ]
          },
          "metadata": {
            "tags": []
          }
        }
      ]
    },
    {
      "metadata": {
        "colab_type": "text",
        "id": "LNFVUASp-oQJ"
      },
      "cell_type": "markdown",
      "source": [
        "### Compute the paired-samples t confidence interval"
      ]
    },
    {
      "metadata": {
        "colab_type": "code",
        "outputId": "48773bf2-1bf5-482d-ecc9-efc2987ee670",
        "id": "M6j6PRSm-oQL",
        "colab": {
          "base_uri": "https://localhost:8080/",
          "height": 35
        }
      },
      "cell_type": "code",
      "source": [
        "#Get a column of the data frame\n",
        "X = df['Difference']\n",
        "\n",
        "#Compute the components of a confidence interval\n",
        "mu = X.describe()['mean'] #can also use mu = np.mean(X)\n",
        "sd = X.describe()['std'] #can also use sd = np.std(X,ddof = 1)\n",
        "n = np.size(X)\n",
        "se = sd/np.sqrt(n)\n",
        "v = n - 1\n",
        "c_level = 0.95\n",
        "\n",
        "#Combine the components to form confidence interval. This function computes the necessary t critical value.\n",
        "stats.t.interval(c_level,loc = mu, scale = se,df = v)"
      ],
      "execution_count": 0,
      "outputs": [
        {
          "output_type": "execute_result",
          "data": {
            "text/plain": [
              "(-538.0662912413607, 464.06629124136066)"
            ]
          },
          "metadata": {
            "tags": []
          },
          "execution_count": 19
        }
      ]
    },
    {
      "metadata": {
        "colab_type": "text",
        "id": "89CO1p00-oQU"
      },
      "cell_type": "markdown",
      "source": [
        "## Paired-samples t test"
      ]
    },
    {
      "metadata": {
        "colab_type": "text",
        "id": "JuhMEq8t-oQV"
      },
      "cell_type": "markdown",
      "source": [
        "We will use the drug absorptions data again, so we have alread done the initial steps of importing the data, creating a data frame, and plotting the data."
      ]
    },
    {
      "metadata": {
        "colab_type": "text",
        "id": "tuJWOATX-oQW"
      },
      "cell_type": "markdown",
      "source": [
        "### Paired-sampes t test for the mean"
      ]
    },
    {
      "metadata": {
        "colab_type": "code",
        "outputId": "71379837-3530-4260-987c-1b2701afcac2",
        "id": "JvWJLCNK-oQX",
        "colab": {
          "base_uri": "https://localhost:8080/",
          "height": 35
        }
      },
      "cell_type": "code",
      "source": [
        "#Specify the mean under the null hypothesis\n",
        "null_mu_diff = 0\n",
        "\n",
        "#Get a column of the data frame\n",
        "X = df['Difference']\n",
        "\n",
        "#Find the t statistic and p-value\n",
        "stats.ttest_1samp(X, null_mu_diff)"
      ],
      "execution_count": 0,
      "outputs": [
        {
          "output_type": "execute_result",
          "data": {
            "text/plain": [
              "Ttest_1sampResult(statistic=-0.15455418048827083, pvalue=0.8788027461466698)"
            ]
          },
          "metadata": {
            "tags": []
          },
          "execution_count": 20
        }
      ]
    },
    {
      "metadata": {
        "colab_type": "text",
        "id": "JJTjXZ5w-oQg"
      },
      "cell_type": "markdown",
      "source": [
        "You can compare the p-value to a significance level to make a decision.\n",
        "\n",
        "Here the p-value is very large, so there is no evidence of a difference in means."
      ]
    },
    {
      "metadata": {
        "id": "Jy6Nptq4_M0X",
        "colab_type": "code",
        "colab": {}
      },
      "cell_type": "code",
      "source": [
        ""
      ],
      "execution_count": 0,
      "outputs": []
    },
    {
      "metadata": {
        "id": "fMQuOuu9AV1y",
        "colab_type": "text"
      },
      "cell_type": "markdown",
      "source": [
        "## Two-samples confidence interval"
      ]
    },
    {
      "metadata": {
        "colab_type": "text",
        "id": "9x2wYNOCAeKU"
      },
      "cell_type": "markdown",
      "source": [
        "### Load the data"
      ]
    },
    {
      "metadata": {
        "colab_type": "code",
        "outputId": "ae534acd-a883-45eb-d01b-0b334c60fdb6",
        "id": "ec3-jEAWAeKW",
        "colab": {
          "base_uri": "https://localhost:8080/",
          "height": 383
        }
      },
      "cell_type": "code",
      "source": [
        "!wget https://www.dropbox.com/s/x9x1mvrsypn2r5k/DirectedReading.csv?dl=0"
      ],
      "execution_count": 0,
      "outputs": [
        {
          "output_type": "stream",
          "text": [
            "--2019-01-27 20:32:54--  https://www.dropbox.com/s/x9x1mvrsypn2r5k/DirectedReading.csv?dl=0\n",
            "Resolving www.dropbox.com (www.dropbox.com)... 162.125.9.1, 2620:100:601b:1::a27d:801\n",
            "Connecting to www.dropbox.com (www.dropbox.com)|162.125.9.1|:443... connected.\n",
            "HTTP request sent, awaiting response... 301 Moved Permanently\n",
            "Location: /s/raw/x9x1mvrsypn2r5k/DirectedReading.csv [following]\n",
            "--2019-01-27 20:32:55--  https://www.dropbox.com/s/raw/x9x1mvrsypn2r5k/DirectedReading.csv\n",
            "Reusing existing connection to www.dropbox.com:443.\n",
            "HTTP request sent, awaiting response... 302 Found\n",
            "Location: https://uc7042af20a5696891c756922b2e.dl.dropboxusercontent.com/cd/0/inline/AaO2bTb6XWPdEl8N8GYJQCUfbh0qoWcMCJpbghF9WHtZug0pJfttPyKePjSnnTWPNqaw95lAHdPiJxziskcexJ6py2JchsoxmipJzbeEkJY7p-yFb5CFI-e6Roapa0MXwzE/file# [following]\n",
            "--2019-01-27 20:32:55--  https://uc7042af20a5696891c756922b2e.dl.dropboxusercontent.com/cd/0/inline/AaO2bTb6XWPdEl8N8GYJQCUfbh0qoWcMCJpbghF9WHtZug0pJfttPyKePjSnnTWPNqaw95lAHdPiJxziskcexJ6py2JchsoxmipJzbeEkJY7p-yFb5CFI-e6Roapa0MXwzE/file\n",
            "Resolving uc7042af20a5696891c756922b2e.dl.dropboxusercontent.com (uc7042af20a5696891c756922b2e.dl.dropboxusercontent.com)... 162.125.9.6, 2620:100:601b:6::a27d:806\n",
            "Connecting to uc7042af20a5696891c756922b2e.dl.dropboxusercontent.com (uc7042af20a5696891c756922b2e.dl.dropboxusercontent.com)|162.125.9.6|:443... connected.\n",
            "HTTP request sent, awaiting response... 200 OK\n",
            "Length: 505 [text/plain]\n",
            "Saving to: ‘DirectedReading.csv?dl=0’\n",
            "\n",
            "DirectedReading.csv 100%[===================>]     505  --.-KB/s    in 0s      \n",
            "\n",
            "2019-01-27 20:32:55 (67.4 MB/s) - ‘DirectedReading.csv?dl=0’ saved [505/505]\n",
            "\n"
          ],
          "name": "stdout"
        }
      ]
    },
    {
      "metadata": {
        "colab_type": "text",
        "id": "u7T8DSolAmFw"
      },
      "cell_type": "markdown",
      "source": [
        "### Create a data frame"
      ]
    },
    {
      "metadata": {
        "colab_type": "code",
        "id": "q8Ll1x-CAmFx",
        "colab": {}
      },
      "cell_type": "code",
      "source": [
        "df = pd.read_csv('DirectedReading.csv?dl=0')"
      ],
      "execution_count": 0,
      "outputs": []
    },
    {
      "metadata": {
        "id": "MqmH9PnnAxX0",
        "colab_type": "text"
      },
      "cell_type": "markdown",
      "source": [
        "### Look at the data"
      ]
    },
    {
      "metadata": {
        "id": "MZ2CBCTD30Zd",
        "colab_type": "text"
      },
      "cell_type": "markdown",
      "source": [
        "Look at the data frame to see what variables you have."
      ]
    },
    {
      "metadata": {
        "id": "t5KscTQmxT8S",
        "colab_type": "code",
        "outputId": "1193cf10-596b-4005-c505-e0b09c79706d",
        "colab": {
          "base_uri": "https://localhost:8080/",
          "height": 198
        }
      },
      "cell_type": "code",
      "source": [
        "df.head()"
      ],
      "execution_count": 0,
      "outputs": [
        {
          "output_type": "execute_result",
          "data": {
            "text/html": [
              "<div>\n",
              "<style scoped>\n",
              "    .dataframe tbody tr th:only-of-type {\n",
              "        vertical-align: middle;\n",
              "    }\n",
              "\n",
              "    .dataframe tbody tr th {\n",
              "        vertical-align: top;\n",
              "    }\n",
              "\n",
              "    .dataframe thead th {\n",
              "        text-align: right;\n",
              "    }\n",
              "</style>\n",
              "<table border=\"1\" class=\"dataframe\">\n",
              "  <thead>\n",
              "    <tr style=\"text-align: right;\">\n",
              "      <th></th>\n",
              "      <th>Treatment</th>\n",
              "      <th>Response</th>\n",
              "    </tr>\n",
              "  </thead>\n",
              "  <tbody>\n",
              "    <tr>\n",
              "      <th>0</th>\n",
              "      <td>Treated</td>\n",
              "      <td>24</td>\n",
              "    </tr>\n",
              "    <tr>\n",
              "      <th>1</th>\n",
              "      <td>Treated</td>\n",
              "      <td>43</td>\n",
              "    </tr>\n",
              "    <tr>\n",
              "      <th>2</th>\n",
              "      <td>Treated</td>\n",
              "      <td>58</td>\n",
              "    </tr>\n",
              "    <tr>\n",
              "      <th>3</th>\n",
              "      <td>Treated</td>\n",
              "      <td>71</td>\n",
              "    </tr>\n",
              "    <tr>\n",
              "      <th>4</th>\n",
              "      <td>Treated</td>\n",
              "      <td>43</td>\n",
              "    </tr>\n",
              "  </tbody>\n",
              "</table>\n",
              "</div>"
            ],
            "text/plain": [
              "  Treatment  Response\n",
              "0   Treated        24\n",
              "1   Treated        43\n",
              "2   Treated        58\n",
              "3   Treated        71\n",
              "4   Treated        43"
            ]
          },
          "metadata": {
            "tags": []
          },
          "execution_count": 35
        }
      ]
    },
    {
      "metadata": {
        "id": "g094ogtY36Qo",
        "colab_type": "text"
      },
      "cell_type": "markdown",
      "source": [
        "Use comparative boxplots, with swarm plots to see the difference."
      ]
    },
    {
      "metadata": {
        "id": "gjWadPScxl1R",
        "colab_type": "code",
        "outputId": "a4a7f143-5a62-4894-a45f-ff44ca1f416f",
        "colab": {
          "base_uri": "https://localhost:8080/",
          "height": 451
        }
      },
      "cell_type": "code",
      "source": [
        "sns.boxplot(x=\"Treatment\", y=\"Response\", data=df,palette = {'b','orange'})\n",
        "sns.swarmplot(x=\"Treatment\", y=\"Response\", data=df,color = 'k',size = 8)\n",
        "\n",
        "plt.xlabel(' ',fontsize = 20)\n",
        "plt.ylabel('Degree of Reading Power',fontsize = 20)\n",
        "plt.title(' ',fontsize = 20)\n",
        "\n",
        "plt.tick_params(labelsize = 16)\n",
        "\n",
        "\n",
        "plt.show()"
      ],
      "execution_count": 0,
      "outputs": [
        {
          "output_type": "stream",
          "text": [
            "/usr/local/lib/python3.6/dist-packages/seaborn/categorical.py:454: FutureWarning: remove_na is deprecated and is a private function. Do not use.\n",
            "  box_data = remove_na(group_data)\n"
          ],
          "name": "stderr"
        },
        {
          "output_type": "display_data",
          "data": {
            "image/png": "[encoded data removed]",
            "text/plain": [
              "<Figure size 576x396 with 1 Axes>"
            ]
          },
          "metadata": {
            "tags": []
          }
        }
      ]
    },
    {
      "metadata": {
        "colab_type": "text",
        "id": "br4KuvvoLWK8"
      },
      "cell_type": "markdown",
      "source": [
        "Use a q-q plot to assess how well a Normal distribution models the data."
      ]
    },
    {
      "metadata": {
        "colab_type": "code",
        "outputId": "885c0640-e7aa-49c7-b7f5-747a16ff2c47",
        "id": "HC_VSm-kLWK9",
        "colab": {
          "base_uri": "https://localhost:8080/",
          "height": 395
        }
      },
      "cell_type": "code",
      "source": [
        "fig = sm.qqplot(df['Response'][df.Treatment == 'Treated'], dist=\"norm\",fit = True,line = '45')\n",
        "plt.xlabel('Normal Quantiles',fontsize=20)\n",
        "plt.ylabel('Observed Quantiles',fontsize=20)\n",
        "plt.xticks(fontsize=15)\n",
        "plt.yticks(fontsize=15)\n",
        "plt.title('Q-Q plot for Treated Group',fontsize=20)\n",
        "\n",
        "plt.show()"
      ],
      "execution_count": 0,
      "outputs": [
        {
          "output_type": "display_data",
          "data": {
            "image/png": "[encoded data removed]",
            "text/plain": [
              "<Figure size 576x396 with 1 Axes>"
            ]
          },
          "metadata": {
            "tags": []
          }
        }
      ]
    },
    {
      "metadata": {
        "id": "k-4HA6HFL2Tc",
        "colab_type": "code",
        "outputId": "0c6cfe04-ab58-4a23-f25e-464716c82b17",
        "colab": {
          "base_uri": "https://localhost:8080/",
          "height": 395
        }
      },
      "cell_type": "code",
      "source": [
        "fig = sm.qqplot(df['Response'][df.Treatment == 'Control'], dist=\"norm\",fit = True,line = '45')\n",
        "plt.xlabel('Normal Quantiles',fontsize=20)\n",
        "plt.ylabel('Observed Quantiles',fontsize=20)\n",
        "plt.xticks(fontsize=15)\n",
        "plt.yticks(fontsize=15)\n",
        "plt.title('Q-Q plot for Control Group',fontsize=20)\n",
        "\n",
        "plt.show()"
      ],
      "execution_count": 0,
      "outputs": [
        {
          "output_type": "display_data",
          "data": {
            "image/png": "[encoded data removed]",
            "text/plain": [
              "<Figure size 576x396 with 1 Axes>"
            ]
          },
          "metadata": {
            "tags": []
          }
        }
      ]
    },
    {
      "metadata": {
        "colab_type": "text",
        "id": "fOxsd8XNIo7Z"
      },
      "cell_type": "markdown",
      "source": [
        "### Compute the two-samples t confidence interval"
      ]
    },
    {
      "metadata": {
        "colab_type": "code",
        "outputId": "773cd2ab-3e47-48de-eba0-29068967a2cd",
        "id": "iCP6ZgcOIo7c",
        "colab": {
          "base_uri": "https://localhost:8080/",
          "height": 35
        }
      },
      "cell_type": "code",
      "source": [
        "#Define the samples\n",
        "x1 = df[df.Treatment == 'Treated'].Response\n",
        "x2 = df[df.Treatment == 'Control'].Response\n",
        "\n",
        "#Get necessary stats\n",
        "s1 = x1.describe()['std'] #can also use sd = np.std(x1,ddof = 1)\n",
        "s2 = x2.describe()['std'] #can also use sd = np.std(x2,ddof = 1)\n",
        "n1 = np.size(x1)\n",
        "n2 = np.size(x2)\n",
        "\n",
        "se1 = s1/np.sqrt(n1)\n",
        "se2 = s2/np.sqrt(n2)\n",
        "\n",
        "#Estimated standard error\n",
        "se_val = np.sqrt(se1**2 + se2**2)\n",
        "\n",
        "#Sample mean difference\n",
        "mean_val = x1.describe()['mean'] - x2.describe()['mean']\n",
        "\n",
        "#Degrees of freedom\n",
        "v = (s1**2/n1 + s2**2/n2)**2/((s1**2/n1)**2/(n1-1) + (s2**2/n2)**2/(n2-1))\n",
        "\n",
        "#Confidence level\n",
        "c_level = 0.95\n",
        "\n",
        "#Find the confidence interval\n",
        "stats.t.interval(c_level,loc = mean_val, scale = se_val,df = v)"
      ],
      "execution_count": 0,
      "outputs": [
        {
          "output_type": "execute_result",
          "data": {
            "text/plain": [
              "(1.2330200573390453, 18.67588263417234)"
            ]
          },
          "metadata": {
            "tags": []
          },
          "execution_count": 32
        }
      ]
    },
    {
      "metadata": {
        "id": "zFQ_7j3zJmqT",
        "colab_type": "text"
      },
      "cell_type": "markdown",
      "source": [
        "The confidence interval does not contain zero. Therefore we reach the conclusion that there is a difference in the means."
      ]
    },
    {
      "metadata": {
        "id": "9k18tw3MJ_VF",
        "colab_type": "text"
      },
      "cell_type": "markdown",
      "source": [
        "## Two-samples t test"
      ]
    },
    {
      "metadata": {
        "id": "qITearRKKFmZ",
        "colab_type": "text"
      },
      "cell_type": "markdown",
      "source": [
        "We will use the directed reading data again, so we have alread done the initial steps of importing the data, creating a data frame, and plotting the data."
      ]
    },
    {
      "metadata": {
        "id": "CfSPnQPk34v4",
        "colab_type": "text"
      },
      "cell_type": "markdown",
      "source": [
        "Perform the one-sided t-test. We will use SciPy's stats.ttest_ind, which performs a two-sided t test, so we will divide the resulting P-value by two.\n",
        "\n",
        "https://docs.scipy.org/doc/scipy-0.15.1/reference/generated/scipy.stats.ttest_ind.html"
      ]
    },
    {
      "metadata": {
        "id": "B2KnEv0T2ce0",
        "colab_type": "code",
        "colab": {}
      },
      "cell_type": "code",
      "source": [
        "tstatistic, p = stats.ttest_ind(df[df.Treatment == 'Treated'].Response, df[df.Treatment == 'Control'].Response, equal_var = False)"
      ],
      "execution_count": 0,
      "outputs": []
    },
    {
      "metadata": {
        "id": "B7a9gKMc5VVg",
        "colab_type": "code",
        "outputId": "22fdeb62-ec21-44c9-dcc1-79713257cdb0",
        "colab": {
          "base_uri": "https://localhost:8080/",
          "height": 35
        }
      },
      "cell_type": "code",
      "source": [
        "p_value = p/2\n",
        "\n",
        "print(p_value)"
      ],
      "execution_count": 0,
      "outputs": [
        {
          "output_type": "stream",
          "text": [
            "0.01319120641221239\n"
          ],
          "name": "stdout"
        }
      ]
    }
  ]
}